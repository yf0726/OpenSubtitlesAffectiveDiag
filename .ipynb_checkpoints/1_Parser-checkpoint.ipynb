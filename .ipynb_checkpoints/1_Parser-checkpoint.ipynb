{
 "cells": [
  {
   "cell_type": "markdown",
   "metadata": {},
   "source": [
    "## Parse the .xml document from OpenSubtitle\n",
    "\n",
    "1. How to define a dialog? Using time difference?\n",
    "2. Consequent lines may be spoken by same person -- not a dialog at all.\n",
    "3. 还有重复的0-790764文件夹里三个都是一部剧\n",
    "同一个文件夹里的出门xml应该是同一部剧的字幕\n",
    "4. 甚至有歌词666文件夹\n",
    "5. 旁白怎么区分1858-4037526\n",
    "6. \n",
    "\n",
    "一个s tag里多个time tag：同一个人讲的一句话\n",
    "一个time tag跨越多个s tag：同一句话\n",
    "\n",
    "s代表一句话 time表示同一时间屏幕上显示的句子\n",
    "s中多个time：句子过长分多次显示\n",
    "time中多s：多人不同的对话同时显示（短对话）\n",
    "\n",
    "还有可能一整段s里没有time tag\n",
    "\n",
    "` <s id=\"11\">\n",
    "    <time id=\"T11S\" value=\"00:01:51,487\" />\n",
    "    <w id=\"11.1\">I</w>\n",
    "    <w id=\"11.2\">don</w>\n",
    "    <w id=\"11.3\">'t</w>\n",
    "    <w id=\"11.4\">know</w>\n",
    "    <w id=\"11.5\">,</w>\n",
    "    <w id=\"11.6\">baby</w>\n",
    "    <w id=\"11.7\">.</w>\n",
    "  </s>\n",
    "  <s id=\"12\">\n",
    "    <w id=\"12.1\">I</w>\n",
    "    <w id=\"12.2\">never</w>\n",
    "    <w id=\"12.3\">looked</w>\n",
    "    <w id=\"12.4\">.</w>\n",
    "    <time id=\"T11E\" value=\"00:01:53,682\" />\n",
    "  </s>`\n",
    "` \n",
    "<s id=\"20\">\n",
    "    <time id=\"T17S\" value=\"00:02:08,687\" />\n",
    "    <w id=\"20.1\">Don</w>\n",
    "    <w id=\"20.2\">'t</w>\n",
    "    <w id=\"20.3\">you</w>\n",
    "    <w id=\"20.4\">want</w>\n",
    "    <w id=\"20.5\">to</w>\n",
    "    <w id=\"20.6\">try</w>\n",
    "    <w id=\"20.7\">the</w>\n",
    "    <w id=\"20.8\">wheelbarrow</w>\n",
    "    <w id=\"20.9\">...</w>\n",
    "    <time id=\"T17E\" value=\"00:02:11,042\" />\n",
    "    <time id=\"T18S\" value=\"00:02:11,087\" />\n",
    "    <w id=\"20.10\">or</w>\n",
    "    <w id=\"20.11\">the</w>\n",
    "    <w id=\"20.12\">praying</w>\n",
    "    <w id=\"20.13\">donkey</w>\n",
    "    <w id=\"20.14\">...</w>\n",
    "    <time id=\"T18E\" value=\"00:02:12,486\" />\n",
    "    <time id=\"T19S\" value=\"00:02:12,527\" />\n",
    "    <w id=\"20.15\">or</w>\n",
    "    <w id=\"20.16\">the</w>\n",
    "    <w id=\"20.17\">Chinese</w>\n",
    "    <w id=\"20.18\">shag</w>\n",
    "    <w id=\"20.19\">swing</w>\n",
    "    <w id=\"20.20\">?</w>\n",
    "    <time id=\"T19E\" value=\"00:02:14,358\" />\n",
    "  </s>\n",
    "`\n",
    "\n",
    "`\n",
    "  <s id=\"17\">\n",
    "    <time id=\"T15S\" value=\"00:02:04,367\" />\n",
    "    <w id=\"17.1\">-</w>\n",
    "    <w id=\"17.2\">Again</w>\n",
    "    <w id=\"17.3\">?</w>\n",
    "  </s>\n",
    "  <s id=\"18\">\n",
    "    <w id=\"18.1\">-</w>\n",
    "    <w id=\"18.2\">Sure</w>\n",
    "    <w id=\"18.3\">,</w>\n",
    "    <w id=\"18.4\">baby</w>\n",
    "    <w id=\"18.5\">.</w>\n",
    "    <time id=\"T15E\" value=\"00:02:06,323\" />\n",
    "  </s>\n",
    "`\n",
    "\n",
    "`\n",
    " </s>\n",
    "  <s id=\"105\">\n",
    "    <time id=\"T103S\" value=\"00:08:51,687\" />\n",
    "    <w id=\"105.1\">-</w>\n",
    "    <w id=\"105.2\">Shut</w>\n",
    "    <w id=\"105.3\">up</w>\n",
    "    <w id=\"105.4\">,</w>\n",
    "    <w id=\"105.5\">you-</w>\n",
    "    <w id=\"105.6\">-</w>\n",
    "  </s>\n",
    "  <s id=\"106\">\n",
    "    <w id=\"106.1\">-</w>\n",
    "    <w id=\"106.2\">OK</w>\n",
    "    <w id=\"106.3\">,</w>\n",
    "    <w id=\"106.4\">come</w>\n",
    "    <w id=\"106.5\">on</w>\n",
    "    <w id=\"106.6\">.</w>\n",
    "    <time id=\"T103E\" value=\"00:08:53,723\" />\n",
    "  </s>\n",
    "`\n",
    "直接去除- -之间的内容也会有问题\n",
    "\n",
    "Static:\n",
    "\n",
    "1. General time duration of documents;\n",
    "2. Histogram for the time difference between two sentences, and tried to find the proper time stamp to decide dialog\n",
    "\n",
    "Delete brackets and contents in brackets."
   ]
  },
  {
   "cell_type": "code",
   "execution_count": 1,
   "metadata": {},
   "outputs": [],
   "source": [
    "import xml.etree.ElementTree as ET\n",
    "from datetime import datetime,timedelta\n",
    "import operator\n",
    "import matplotlib.pyplot as plt\n",
    "import numpy as np\n",
    "import os,re,time"
   ]
  },
  {
   "cell_type": "code",
   "execution_count": 2,
   "metadata": {
    "scrolled": true
   },
   "outputs": [],
   "source": [
    "def time2sec(string):\n",
    "    # format = '%H:%M:%S'\n",
    "    # d = datetime.strptime(string, format) \n",
    "    # string = string.replace(',','.')\n",
    "    # d = list(map(float,string.split(':')))\n",
    "    string = string.replace(' ','')\n",
    "    d = list(map(float,re.split('\\.|,|;|:',string)))\n",
    "    t = timedelta(hours = d[0],minutes = d[1],seconds = d[2])\n",
    "    return(t.total_seconds())"
   ]
  },
  {
   "cell_type": "code",
   "execution_count": 3,
   "metadata": {},
   "outputs": [],
   "source": [
    "def multiple_replace(dict_, text):\n",
    "    # Create a regular expression  from the dictionary keys\n",
    "    regex = re.compile(\"(%s)\" % \"|\".join(map(re.escape, dict_.keys())))\n",
    "    # For each match, look-up corresponding value in dictionary\n",
    "    return regex.sub(lambda mo: dict_[mo.string[mo.start():mo.end()]], text) \n",
    "\n",
    "dict_sub = {'\\'s':'is','\\'m':'am','\\'t':'not','\\'ve':'have',\n",
    "            'don not':'do not','didn not':'did not','doesn not':'does not',\n",
    "            'haven not':'have not','hasn not':'has not','isn not':'is not','aren not':'are not',\n",
    "            'let is':'let us','shouldn not':'should not',\n",
    "            'Don not':'Do not','Didn not':'Did not','Doesn not':'Does not',\n",
    "            'Haven not':'Have not','Hasn not':'Has not','Isn not':'Is not','Aren not':'Are not',\n",
    "            'Let is':'Let us','Shouldn not':'Should not'}"
   ]
  },
  {
   "cell_type": "code",
   "execution_count": 4,
   "metadata": {},
   "outputs": [],
   "source": [
    "def OpenSubtitleSentence(file_path,FOLDER_PATH,dict_=dict_sub):\n",
    "    # import data\n",
    "    tree = ET.parse(file_path)\n",
    "    root = tree.getroot()\n",
    "    time_list = []\n",
    "    s_list = []\n",
    "    s_tmp = ''\n",
    "    flag_s = 0\n",
    "    flag_e = 0\n",
    "    flag_m = 0\n",
    "    \n",
    "    # get duration of input document\n",
    "    for sub in root.iter('subtitle'):\n",
    "        for duration in sub.iter('duration'):\n",
    "            duration_time = time2sec(duration.text.split(',')[0])\n",
    "    \n",
    "    # if the duration is too short or too long we ignore this document\n",
    "    if (duration_time < 3600*0.5) | (duration_time > 3600*3):\n",
    "        return\n",
    "    \n",
    "    for child in root:\n",
    "        if child.tag != 's':\n",
    "            continue\n",
    "                    \n",
    "        # get the list of start and end time of each sentence\n",
    "        time_tmp = []\n",
    "        for time in child.iter(tag='time'):\n",
    "            # time_tmp.append(time.attrib['value'])\n",
    "            time_tmp.extend([time.attrib['id'],time.attrib['value']])\n",
    "        \n",
    "        if not time_tmp:\n",
    "            flag_m = 1\n",
    "        elif (time_tmp[0].endswith('S')) & (time_tmp[-2].endswith('E')):\n",
    "            time_list.extend([time_tmp[1],time_tmp[-1]])\n",
    "        elif (time_tmp[0].endswith('E')) & (time_tmp[-2].endswith('S')):\n",
    "            flag_m = 1\n",
    "        elif (time_tmp[0].endswith('S')) & (time_tmp[-2].endswith('S')):\n",
    "            time_list.extend([time_tmp[1]])\n",
    "            flag_s = 1\n",
    "        elif (time_tmp[0].endswith('E')) & (time_tmp[-2].endswith('E')):\n",
    "            time_list.extend([time_tmp[-1]])\n",
    "            flag_e = 1\n",
    "        \n",
    "        s = [] # sentence in this loop\n",
    "        if child.itertext(): #sentence in each s tag\n",
    "            s.append(''.join(child.itertext()))\n",
    "        s = ' '.join(s[0].split())\n",
    "        a = s\n",
    "        \n",
    "        a = multiple_replace(dict_, a)\n",
    "        a = multiple_replace(dict_, a)\n",
    "        \n",
    "        # remove brackets and contents in the brackets/special symbols\n",
    "        a = re.sub(u\"\\\\(.*?\\\\)|\\\\{.*?}|\\\\[.*?]|\\\\♪.*?♪|\\\\#.*?#\", \"\", a)\n",
    "        a = re.sub('[0-9]+', 'NUM', a) # replace specific number with NUM\n",
    "        # a = a.replace('-','')\n",
    "        a = a.lstrip().rstrip()# remove '-' and spaces before or after sentence\n",
    "        \n",
    "        if flag_s:\n",
    "            s_tmp = a\n",
    "            flag_s = 0\n",
    "            continue\n",
    "        \n",
    "        if flag_m:\n",
    "            try:\n",
    "                s_tmp = s_tmp + a\n",
    "            except:\n",
    "                print(child.attrib)\n",
    "            flag_m = 0\n",
    "            continue\n",
    "            \n",
    "        if flag_e:\n",
    "            a = s_tmp + a\n",
    "            flag_e = 0\n",
    "            s_tmp = ''\n",
    "            \n",
    "        if (not len(a)) | (any(re.findall(r' Season.*?Episode | Subtitle :',a, re.IGNORECASE))): \n",
    "            # skip null sentence and - Season x Episode x - lines\n",
    "            del time_list[-2:]\n",
    "            continue\n",
    "           \n",
    "        s_list.append(a)\n",
    "#         new_path = os.path.basename(file_path).split('.')[0]\n",
    "#         f = open(new_path+'.txt','a')\n",
    "#         f.write(a)\n",
    "#         f.write('\\n')\n",
    "                \n",
    "    # convert to seconds\n",
    "    time_second = []\n",
    "    for time in time_list:\n",
    "        # print(child.attrib,time)\n",
    "        time_second.append(time2sec(time))\n",
    "\n",
    "    time_diff = list(map(operator.sub,time_second[::2][1:],time_second[1::2][:-1]))\n",
    "    \n",
    "    # save dialogue\n",
    "    folder = FOLDER_PATH\n",
    "    new_path = folder + os.path.basename(file_path).split('.')[0] + '.txt'\n",
    "    SaveSentence(new_path,s_list,time_diff)\n",
    "    \n",
    "    return"
   ]
  },
  {
   "cell_type": "code",
   "execution_count": 5,
   "metadata": {},
   "outputs": [],
   "source": [
    "def SaveSentence(save_path,s_,time_):\n",
    "    n = 1\n",
    "    new_path = save_path\n",
    "    while os.path.exists(new_path):\n",
    "        new_path = save_path.split('.')[0]+'_'+str(n)+'.txt'\n",
    "        n +=1\n",
    "        \n",
    "    time_th = np.percentile(time_,75)\n",
    "    print(time_th)\n",
    "    f = open(new_path,'a')\n",
    "    for i in range(len(s_)-1):\n",
    "        a = '<BOS>'+s_[i]+'<EOS>'\n",
    "        f.write(a)\n",
    "        f.write(\"\\n\")\n",
    "        if time_[i]>=time_th:\n",
    "            f.write(\">>>>>\")\n",
    "            f.write(\"\\n\")\n",
    "    a = '<BOS>'+s_[-1]+'<EOS>'\n",
    "    f.write(a)\n",
    "    print(new_path)\n",
    "    return"
   ]
  },
  {
   "cell_type": "code",
   "execution_count": null,
   "metadata": {
    "scrolled": true
   },
   "outputs": [],
   "source": [
    "g = os.walk(\"/Volumes/Files/en/OpenSubtitles/xml/en/\")\n",
    "cnt = 0\n",
    "folder_path = \"/Volumes/Files/en/OpenSubtitles/txt/\"\n",
    "tos = time.clock()\n",
    "\n",
    "# looping over all .xml files in that folder\n",
    "for path,dir_list,file_list in g:  \n",
    "    for file_name in file_list:\n",
    "        if cnt%10000 == 0:\n",
    "            runtime = time.clock()-tos\n",
    "            tos = runtime\n",
    "            print('\\n')\n",
    "            print('============================')\n",
    "            print('Processing :',cnt/446612,'running time is',runtime,'s')\n",
    "            print('============================','\\n')\n",
    "        if file_name.endswith(\".xml\"): \n",
    "            tmp_path = os.path.join(path,file_name)\n",
    "            time_diff_ = OpenSubtitleSentence(tmp_path,folder_path)\n",
    "            cnt += 1"
   ]
  },
  {
   "cell_type": "code",
   "execution_count": 8,
   "metadata": {},
   "outputs": [
    {
     "data": {
      "text/plain": [
       "'/Volumes/Files/en/OpenSubtitles/xml/en/1932/22877/178645.xml'"
      ]
     },
     "execution_count": 8,
     "metadata": {},
     "output_type": "execute_result"
    }
   ],
   "source": [
    "tmp_path"
   ]
  },
  {
   "cell_type": "code",
   "execution_count": 13,
   "metadata": {},
   "outputs": [
    {
     "name": "stdout",
     "output_type": "stream",
     "text": [
      "446612\n"
     ]
    }
   ],
   "source": [
    "file_count=0\n",
    "for dirpath, dirnames, filenames in os.walk('/Volumes/Files/en/OpenSubtitles/xml/en/'):\n",
    "    for file in filenames:\n",
    "        file_count=file_count+1\n",
    "print(file_count)\n",
    "# file_count = 446612"
   ]
  },
  {
   "cell_type": "code",
   "execution_count": 6,
   "metadata": {
    "scrolled": true
   },
   "outputs": [
    {
     "name": "stderr",
     "output_type": "stream",
     "text": [
      "/anaconda3/envs/semester/lib/python3.7/site-packages/ipykernel_launcher.py:7: DeprecationWarning: time.clock has been deprecated in Python 3.3 and will be removed from Python 3.8: use time.perf_counter or time.process_time instead\n",
      "  import sys\n",
      "/anaconda3/envs/semester/lib/python3.7/site-packages/ipykernel_launcher.py:12: DeprecationWarning: time.clock has been deprecated in Python 3.3 and will be removed from Python 3.8: use time.perf_counter or time.process_time instead\n",
      "  if sys.path[0] == '':\n"
     ]
    },
    {
     "name": "stdout",
     "output_type": "stream",
     "text": [
      "\n",
      "\n",
      "============================\n",
      "Processing : 0.0 running time is 0.0015230000000001631 s\n",
      "============================ \n",
      "\n",
      "14 15\n",
      "File ./BlackPanther.xml, duration 92.0s,percentage time difference 1.75s, and file size 5KB\n",
      "298 299\n",
      "File ./3602669.xml, duration 2.0s,percentage time difference 2.0s, and file size 116KB\n",
      "1274 1275\n",
      "File ./AustinPower_1999.xml, duration 5458.0s,percentage time difference 1.0s, and file size 413KB\n"
     ]
    }
   ],
   "source": [
    "# the root data folder \n",
    "#g = os.walk(\"/Volumes/Files/en/OpenSubtitles/xml/en/\")\n",
    "g = os.walk('./')\n",
    "\n",
    "total_time = []\n",
    "total_dura = []\n",
    "tos = time.clock()\n",
    "# looping over all .xml files in that folder\n",
    "for path,dir_list,file_list in g:  \n",
    "    for file_name in file_list:\n",
    "        if len(total_dura)%10000 == 0:\n",
    "            runtime = time.clock()-tos\n",
    "            tos = runtime\n",
    "            print('\\n')\n",
    "            print('============================')\n",
    "            print('Processing :',len(total_dura)/446612,'running time is',runtime,'s')\n",
    "            print('============================','\\n')\n",
    "        if file_name.endswith(\".xml\"): \n",
    "            tmp_path = os.path.join(path,file_name)\n",
    "            time_,duration_,s_ = OpenSubtitleSentence(tmp_path)\n",
    "            print(len(time_),len(s_))\n",
    "            # OpenSubtitleSentence(tmp_path)\n",
    "            file_size = os.path.getsize(tmp_path)\n",
    "            total_time.extend(time_)\n",
    "            total_dura.append(duration_)\n",
    "            if time_:\n",
    "                print('File {file}, duration {dura}s,percentage time difference {time_diff}s, and file size {fsize}KB'.\n",
    "                      format(file=tmp_path,dura=duration_,\\\n",
    "                      time_diff=np.percentile(time_,75),fsize=int(file_size/1024)))"
   ]
  },
  {
   "cell_type": "code",
   "execution_count": 5,
   "metadata": {},
   "outputs": [
    {
     "name": "stdout",
     "output_type": "stream",
     "text": [
      "/Volumes/Files/en/OpenSubtitles/xml/en/1949/143235/4191883.xml\n"
     ]
    }
   ],
   "source": [
    "print(tmp_path)"
   ]
  },
  {
   "cell_type": "code",
   "execution_count": 5,
   "metadata": {},
   "outputs": [
    {
     "data": {
      "text/plain": [
       "(array([5.363e+03, 4.582e+03, 1.210e+02, 1.100e+01, 0.000e+00, 1.000e+00,\n",
       "        1.000e+00, 0.000e+00, 0.000e+00, 1.000e+00]),\n",
       " array([    0. ,  5423.3, 10846.6, 16269.9, 21693.2, 27116.5, 32539.8,\n",
       "        37963.1, 43386.4, 48809.7, 54233. ]),\n",
       " <a list of 10 Patch objects>)"
      ]
     },
     "execution_count": 5,
     "metadata": {},
     "output_type": "execute_result"
    },
    {
     "data": {
      "image/png": "[encoded data removed]",
      "text/plain": [
       "<Figure size 432x288 with 1 Axes>"
      ]
     },
     "metadata": {
      "needs_background": "light"
     },
     "output_type": "display_data"
    }
   ],
   "source": [
    "plt.hist(total_dura[1:],log=True)"
   ]
  },
  {
   "cell_type": "code",
   "execution_count": 9,
   "metadata": {},
   "outputs": [
    {
     "data": {
      "text/plain": [
       "(array([ 41.,  73., 182.,  83.,  62.,  37.,  86., 225., 107.,  92.]),\n",
       " array([   0. ,  179.7,  359.4,  539.1,  718.8,  898.5, 1078.2, 1257.9,\n",
       "        1437.6, 1617.3, 1797. ]),\n",
       " <a list of 10 Patch objects>)"
      ]
     },
     "execution_count": 9,
     "metadata": {},
     "output_type": "execute_result"
    },
    {
     "data": {
      "image/png": "[encoded data removed]",
      "text/plain": [
       "<Figure size 432x288 with 1 Axes>"
      ]
     },
     "metadata": {
      "needs_background": "light"
     },
     "output_type": "display_data"
    }
   ],
   "source": [
    "test = np.array(total_dura)\n",
    "test = test[test<1800]\n",
    "plt.hist(test)"
   ]
  },
  {
   "cell_type": "code",
   "execution_count": 10,
   "metadata": {},
   "outputs": [
    {
     "data": {
      "text/plain": [
       "988"
      ]
     },
     "execution_count": 10,
     "metadata": {},
     "output_type": "execute_result"
    }
   ],
   "source": [
    "len(test)"
   ]
  },
  {
   "cell_type": "code",
   "execution_count": 8,
   "metadata": {},
   "outputs": [
    {
     "data": {
      "text/plain": [
       "8242"
      ]
     },
     "execution_count": 8,
     "metadata": {},
     "output_type": "execute_result"
    }
   ],
   "source": [
    "len(total_dura)"
   ]
  },
  {
   "cell_type": "code",
   "execution_count": 6,
   "metadata": {},
   "outputs": [],
   "source": [
    "tree = ET.parse(tmp_path)\n",
    "root = tree.getroot()"
   ]
  },
  {
   "cell_type": "code",
   "execution_count": null,
   "metadata": {},
   "outputs": [],
   "source": []
  }
 ],
 "metadata": {
  "kernelspec": {
   "display_name": "Python (semester)",
   "language": "python",
   "name": "semester"
  },
  "language_info": {
   "codemirror_mode": {
    "name": "ipython",
    "version": 3
   },
   "file_extension": ".py",
   "mimetype": "text/x-python",
   "name": "python",
   "nbconvert_exporter": "python",
   "pygments_lexer": "ipython3",
   "version": "3.7.2"
  }
 },
 "nbformat": 4,
 "nbformat_minor": 2
}
