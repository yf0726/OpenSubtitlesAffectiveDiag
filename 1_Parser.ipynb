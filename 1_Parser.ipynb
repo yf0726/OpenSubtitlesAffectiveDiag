{
 "cells": [
  {
   "cell_type": "markdown",
   "metadata": {},
   "source": [
    "## Parse the .xml document from OpenSubtitle\n",
    "\n",
    "Week 1 -- Week 3\n",
    "\n",
    "` <s id=\"11\">\n",
    "    <time id=\"T11S\" value=\"00:01:51,487\" />\n",
    "    <w id=\"11.1\">I</w>\n",
    "    <w id=\"11.2\">don</w>\n",
    "    <w id=\"11.3\">'t</w>\n",
    "    <w id=\"11.4\">know</w>\n",
    "    <w id=\"11.5\">,</w>\n",
    "    <w id=\"11.6\">baby</w>\n",
    "    <w id=\"11.7\">.</w>\n",
    "  </s>\n",
    "  <s id=\"12\">\n",
    "    <w id=\"12.1\">I</w>\n",
    "    <w id=\"12.2\">never</w>\n",
    "    <w id=\"12.3\">looked</w>\n",
    "    <w id=\"12.4\">.</w>\n",
    "    <time id=\"T11E\" value=\"00:01:53,682\" />\n",
    "  </s>\n",
    "  `\n",
    "  \n",
    "---\n",
    "\n",
    "` <s id=\"20\">\n",
    "    <time id=\"T17S\" value=\"00:02:08,687\" />\n",
    "    <w id=\"20.1\">Don</w>\n",
    "    <w id=\"20.2\">'t</w>\n",
    "    <w id=\"20.3\">you</w>\n",
    "    <w id=\"20.4\">want</w>\n",
    "    <w id=\"20.5\">to</w>\n",
    "    <w id=\"20.6\">try</w>\n",
    "    <w id=\"20.7\">the</w>\n",
    "    <w id=\"20.8\">wheelbarrow</w>\n",
    "    <w id=\"20.9\">...</w>\n",
    "    <time id=\"T17E\" value=\"00:02:11,042\" />\n",
    "    <time id=\"T18S\" value=\"00:02:11,087\" />\n",
    "    <w id=\"20.10\">or</w>\n",
    "    <w id=\"20.11\">the</w>\n",
    "    <w id=\"20.12\">praying</w>\n",
    "    <w id=\"20.13\">donkey</w>\n",
    "    <w id=\"20.14\">...</w>\n",
    "    <time id=\"T18E\" value=\"00:02:12,486\" />\n",
    "    <time id=\"T19S\" value=\"00:02:12,527\" />\n",
    "    <w id=\"20.15\">or</w>\n",
    "    <w id=\"20.16\">the</w>\n",
    "    <w id=\"20.17\">Chinese</w>\n",
    "    <w id=\"20.18\">shag</w>\n",
    "    <w id=\"20.19\">swing</w>\n",
    "    <w id=\"20.20\">?</w>\n",
    "    <time id=\"T19E\" value=\"00:02:14,358\" />\n",
    "  </s>`\n",
    "  \n",
    "---\n",
    "\n",
    "`\n",
    "  <s id=\"17\">\n",
    "    <time id=\"T15S\" value=\"00:02:04,367\" />\n",
    "    <w id=\"17.1\">-</w>\n",
    "    <w id=\"17.2\">Again</w>\n",
    "    <w id=\"17.3\">?</w>\n",
    "  </s>\n",
    "  <s id=\"18\">\n",
    "    <w id=\"18.1\">-</w>\n",
    "    <w id=\"18.2\">Sure</w>\n",
    "    <w id=\"18.3\">,</w>\n",
    "    <w id=\"18.4\">baby</w>\n",
    "    <w id=\"18.5\">.</w>\n",
    "    <time id=\"T15E\" value=\"00:02:06,323\" />\n",
    "  </s>\n",
    "`\n"
   ]
  },
  {
   "cell_type": "markdown",
   "metadata": {},
   "source": [
    "1. We have 446612 subtitles in .xml files in total; and approximately 90% of them are in duration between half an hour and three hours. Too short files may be trailer or song lyrics (eg. 666); too long files may be lectures.\n",
    "2. The subtitles are parsed in such format:\n",
    "\n",
    "\n",
    "    `<s id = 'NUM'>`: In each `<s>` tag it should mean a sentence by certain character.\n",
    "\n",
    "    `<time id=\"T1S\" value=\"00:00:00,668\" /> <time id=\"T1E\" value=\"00:00:02,918\" />`: In each `<time>` tag it should mean subtitles shown in one screen.\n",
    "\n",
    "    Genereally: \n",
    "    In each `<s>` tag there is one pair of `<time>` tag;\n",
    "    In one `<s>` tag if there are more than one pairs of `<time>` tag, it means the sentence by one character is too long and is separeted to put into several screens;\n",
    "    In one `<time>` tag if there are more than one `<s>` tags, it means different senetences by more than one characters are put in one screen. And these sentences often begin with symbol '-'.\n",
    "\n",
    "\n",
    "Pre-processing include:\n",
    "1. Download tokenized English subtitles from http://opus.nlpl.eu/OpenSubtitles2018.php;\n",
    "2. Convert time to seconds;\n",
    "3. Select movies with duration between 0.5 - 3 hours;\n",
    "4. Find sentences in each `<s>` tag (concatenate sentences if in several `<s>` tags; split sentence with '- ')(setences ending with ',' with be considered as part of next sentence. Replace `,<EOS>` with `,` when reading files);\n",
    "5. Expansion, delete brackets and special symbols, replace numbers with NUM, delete non-dialog (eg. 'Season 1 Episode 1', add <BOS\\><EOS\\>;\n",
    "6. Calculate time difference between each sentence, use the 75% percentile as the threshold to separate different dialog.\n",
    "\n",
    "Problems:\n",
    "1. Consequent lines may be spoken by same person, and asides are hard to detect (eg. 1858-4037526);\n",
    "2. Huge looping;\n",
    "3. Duplicate movies (eg. 0-790764).\n",
    "4. Subtitle translated from another language. In some files' meta info there has the orignal language.\n",
    "\n",
    "\n",
    "1. 句号和下一句空格\n",
    "\n",
    "2. \\'s 还可能是所有格\n",
    "\n",
    "3. 千分秒\n",
    "\n",
    "4. `<NUM>`\n",
    "\n",
    "\\'ll \\'d \\'\n",
    "\n",
    "don 't = **do n't** = do not\n",
    "\n",
    "can 't = ca n't\n"
   ]
  },
  {
   "cell_type": "code",
   "execution_count": 1,
   "metadata": {},
   "outputs": [],
   "source": [
    "import xml.etree.ElementTree as ET\n",
    "from datetime import datetime,timedelta\n",
    "import operator\n",
    "import matplotlib.pyplot as plt\n",
    "import numpy as np\n",
    "import os,re,time\n",
    "\n",
    "import linecache"
   ]
  },
  {
   "cell_type": "code",
   "execution_count": 2,
   "metadata": {
    "scrolled": true
   },
   "outputs": [],
   "source": [
    "def time2sec(string):\n",
    "    # format = '%H:%M:%S'\n",
    "    # d = datetime.strptime(string, format) \n",
    "    # string = string.replace(',','.')\n",
    "    # d = list(map(float,string.split(':')))\n",
    "    string = string.replace(' ','')\n",
    "    d = list(map(float,re.split('\\.|,|;|:',string)))\n",
    "    if len(d) > 3:\n",
    "        t = timedelta(hours = d[0],minutes = d[1],seconds = d[2]+d[3]/1000)\n",
    "    else:\n",
    "        t = timedelta(hours = d[0],minutes = d[1],seconds = d[2])\n",
    "    return(t.total_seconds())"
   ]
  },
  {
   "cell_type": "code",
   "execution_count": 3,
   "metadata": {},
   "outputs": [],
   "source": [
    "def multiple_replace(dict_, text):\n",
    "    # Create a regular expression  from the dictionary keys\n",
    "    regex = re.compile(\"(%s)\" % \"|\".join(map(re.escape, dict_.keys())))\n",
    "    # For each match, look-up corresponding value in dictionary\n",
    "    return regex.sub(lambda mo: dict_[mo.string[mo.start():mo.end()]], text) \n",
    "\n",
    "# dict_sub = {'\\\"':'\\'','´':'\\'',\n",
    "#             '\\'s':'is','\\'m':'am','\\'t':'not','\\'ve':'have','\\'re':'are',\n",
    "#             'don not':'do not','didn not':'did not','doesn not':'does not',\n",
    "#             'haven not':'have not','hasn not':'has not','isn not':'is not','aren not':'are not',\n",
    "#             'let is':'let us','shouldn not':'should not',\n",
    "#             'Don not':'Do not','Didn not':'Did not','Doesn not':'Does not',\n",
    "#             'Haven not':'Have not','Hasn not':'Has not','Isn not':'Is not','Aren not':'Are not',\n",
    "#             'Let is':'Let us','Shouldn not':'Should not',\n",
    "#             'in \\'':'ing'}\n",
    "dict_sub = {'\\\"':'\\'','´':'\\'',\n",
    "            ' \\'s':'\\'s',' \\'m':'\\'m',' \\'ve':'\\'ve',' \\'re':'\\'re',' \\'ll':'\\'ll',' \\'d':'\\'d',\n",
    "            'n \\'t':' n\\'t', 'in \\'':'ing', 'ing \\'':'ing'}"
   ]
  },
  {
   "cell_type": "code",
   "execution_count": 4,
   "metadata": {},
   "outputs": [],
   "source": [
    "def OpenSubtitleSentence(file_path,dict_=dict_sub):\n",
    "    # import data\n",
    "    tree = ET.parse(file_path)\n",
    "    root = tree.getroot()\n",
    "    time_list = []\n",
    "    s_list = []\n",
    "    s_tmp = ''\n",
    "    flag_s = 0\n",
    "    flag_e = 0\n",
    "    flag_m = 0\n",
    "    \n",
    "    # get duration of input document\n",
    "    for sub in root.iter('subtitle'):\n",
    "        for duration in sub.iter('duration'):\n",
    "            duration_time = time2sec(duration.text.split(',')[0])    \n",
    "    # if the duration is too short or too long we ignore this document\n",
    "    if (duration_time < 3600*0.5) | (duration_time > 3600*3):\n",
    "        return [],[],None\n",
    "    \n",
    "    # To see if the subtitle is translated from another language\n",
    "    # if the original language is not English then we label it with prefix NEN\n",
    "    # if the original is missing, then we use prefix OTH(er)\n",
    "    element = root.find('meta').find('source').find('original')\n",
    "    if element is not None:\n",
    "        if element.text:\n",
    "            if 'English' in element.text:\n",
    "                prefix = 'EN_'\n",
    "            else:\n",
    "                prefix = 'NEN_'\n",
    "        else:\n",
    "            prefix = 'OTH_'\n",
    "    else:\n",
    "        prefix = 'OTH_'\n",
    "    \n",
    "    for child in root:\n",
    "        if child.tag != 's':\n",
    "            continue\n",
    "    \n",
    "        # get the list of start and end time of each sentence\n",
    "        # if a movie is in 'E-S' pattern in the whole dialog then time_list = []\n",
    "        time_tmp = []\n",
    "        for time in child.iter(tag='time'):\n",
    "            # time_tmp.append(time.attrib['value'])\n",
    "            time_tmp.extend([time.attrib['id'],time.attrib['value']])\n",
    "        \n",
    "        if not time_tmp:\n",
    "            flag_m = 1\n",
    "        elif (time_tmp[0].endswith('S')) & (time_tmp[-2].endswith('E')):\n",
    "            time_list.extend([time_tmp[1],time_tmp[-1]])\n",
    "        elif (time_tmp[0].endswith('E')) & (time_tmp[-2].endswith('S')):\n",
    "            flag_m = 1\n",
    "        elif (time_tmp[0].endswith('S')) & (time_tmp[-2].endswith('S')):\n",
    "            time_list.extend([time_tmp[1]])\n",
    "            flag_s = 1\n",
    "        elif (time_tmp[0].endswith('E')) & (time_tmp[-2].endswith('E')):\n",
    "            time_list.extend([time_tmp[-1]])\n",
    "            flag_e = 1\n",
    "        \n",
    "        s = [] # sentence in this loop\n",
    "        if child.itertext(): #sentence in each s tag\n",
    "            s.append(''.join(child.itertext()))\n",
    "        s = ' '.join(s[0].split())\n",
    "        a = s\n",
    "                \n",
    "        if flag_s:\n",
    "            s_tmp = a\n",
    "            flag_s = 0\n",
    "            continue\n",
    "        \n",
    "        if flag_m:\n",
    "            try:\n",
    "                s_tmp = s_tmp +' ' + a\n",
    "            except:\n",
    "                print(child.attrib)\n",
    "            flag_m = 0\n",
    "            continue\n",
    "            \n",
    "        if flag_e:\n",
    "            a = s_tmp + ' ' + a\n",
    "            flag_e = 0\n",
    "            s_tmp = ''\n",
    "        \n",
    "        a = multiple_replace(dict_, a)\n",
    "        a = multiple_replace(dict_, a)\n",
    "        a = re.sub('ca n\\'t','can n\\'t',a)\n",
    "        \n",
    "        # remove brackets and contents in the brackets/special symbols\n",
    "        a = re.sub(u\"\\\\(.*?\\\\)|\\\\{.*?}|\\\\[.*?]|\\\\♪.*?♪|\\\\#.*?#|\\\\=.*?=|\\\\¶.*?¶\", \"\", a)\n",
    "        a = re.sub('[0-9]+', '<NUM>', a) # replace specific number with NUM\n",
    "        # a = a.replace('-','')\n",
    "        a = a.lstrip().rstrip()# remove '-' and spaces before or after sentence\n",
    "            \n",
    "        if (not len(a)) | (any(re.findall(r' Season.*?Episode |Subtitles|Subtitle | Episode ',a, re.IGNORECASE))) |(not (any(re.findall(r'\\.|,|\\?|!|\\'|\\\"',a)))): \n",
    "            # skip null sentence; delete  '- Season x Episode x -' or 'Subtitles by' lines;\n",
    "            # delete non-dialog sentences, eg. titles of episode\n",
    "            del time_list[-2:]\n",
    "            continue\n",
    "            \n",
    "        s_list.append(a)\n",
    "                \n",
    "    # convert to seconds\n",
    "    time_second = []\n",
    "    for time in time_list:\n",
    "        # print(child.attrib,time)\n",
    "        time_second.append(time2sec(time))\n",
    "\n",
    "    time_diff = list(map(operator.sub,time_second[::2][1:],time_second[1::2][:-1]))\n",
    "    \n",
    "    return s_list,time_diff,prefix"
   ]
  },
  {
   "cell_type": "code",
   "execution_count": 5,
   "metadata": {},
   "outputs": [],
   "source": [
    "def SaveSentence(save_path,s_,time_):\n",
    "    n = 1\n",
    "    new_path = save_path\n",
    "    while os.path.exists(new_path):\n",
    "        new_path = save_path.split('.')[0]+'_'+str(n)+'.txt'\n",
    "        n +=1\n",
    "    \n",
    "    time_th = round(np.percentile(time_diff,75),3)\n",
    "    f = open(new_path,'a')\n",
    "    for i in range(len(s_)-1):\n",
    "        a = s_[i]\n",
    "        a = '<EOS>'.join(list(filter(None,a.split(u\"- \"))))\n",
    "        a = a+'<EOS>'\n",
    "        f.write(a)\n",
    "        # f.write(\"\\n\")\n",
    "        if time_[i]>=time_th:\n",
    "            # f.write(\">>>>>\")\n",
    "            f.write(\"\\n\")\n",
    "    a = s_[i+1]\n",
    "    a = '\\n'.join(list(filter(None,a.split('- '))))\n",
    "    a = a+'<EOS>'\n",
    "    f.write(a)\n",
    "    # print(new_path)\n",
    "    return"
   ]
  },
  {
   "cell_type": "code",
   "execution_count": 6,
   "metadata": {},
   "outputs": [
    {
     "name": "stdout",
     "output_type": "stream",
     "text": [
      "446612\n"
     ]
    }
   ],
   "source": [
    "file_count=0\n",
    "folder_path = \"/Volumes/Files/en/OpenSubtitles/\"\n",
    "\n",
    "# for dirpath, dirnames, filenames in os.walk('/Volumes/Files/en/OpenSubtitles/xml/en/'):\n",
    "#     for file in filenames:\n",
    "#         tmp_path = os.path.join(dirpath,file)\n",
    "#         f = open(folder_path+'AllFilePath.txt','a')\n",
    "#         f.write(tmp_path)\n",
    "#         f.write('\\n')\n",
    "#         file_count=file_count+1\n",
    "file_count = 446612\n",
    "print(file_count)\n",
    "# file_count = 446612"
   ]
  },
  {
   "cell_type": "code",
   "execution_count": 7,
   "metadata": {
    "scrolled": true
   },
   "outputs": [
    {
     "name": "stderr",
     "output_type": "stream",
     "text": [
      "/anaconda3/envs/semester/lib/python3.7/site-packages/ipykernel_launcher.py:6: DeprecationWarning: time.clock has been deprecated in Python 3.3 and will be removed from Python 3.8: use time.perf_counter or time.process_time instead\n",
      "  \n",
      "/anaconda3/envs/semester/lib/python3.7/site-packages/ipykernel_launcher.py:18: DeprecationWarning: time.clock has been deprecated in Python 3.3 and will be removed from Python 3.8: use time.perf_counter or time.process_time instead\n"
     ]
    },
    {
     "name": "stdout",
     "output_type": "stream",
     "text": [
      "\n",
      "\n",
      "============================\n",
      "Processing : 0 running time is 0.0002500000000509317 s\n",
      "============================ \n",
      "\n",
      "\n",
      "\n",
      "============================\n",
      "Processing : 3000 running time is 132.11438499999986 s\n",
      "============================ \n",
      "\n",
      "\n",
      "\n",
      "============================\n",
      "Processing : 6000 running time is 311.42041500000005 s\n",
      "============================ \n",
      "\n",
      "\n",
      "\n",
      "============================\n",
      "Processing : 9000 running time is 520.5034959999998 s\n",
      "============================ \n",
      "\n",
      "\n",
      "\n",
      "============================\n",
      "Processing : 12000 running time is 675.9209510000001 s\n",
      "============================ \n",
      "\n",
      "\n",
      "\n",
      "============================\n",
      "Processing : 15000 running time is 824.4574069999999 s\n",
      "============================ \n",
      "\n",
      "\n",
      "\n",
      "============================\n",
      "Processing : 18000 running time is 958.508758 s\n",
      "============================ \n",
      "\n",
      "\n",
      "\n",
      "============================\n",
      "Processing : 21000 running time is 1092.9165669999998 s\n",
      "============================ \n",
      "\n",
      "\n",
      "\n",
      "============================\n",
      "Processing : 24000 running time is 1226.110177 s\n",
      "============================ \n",
      "\n",
      "\n",
      "\n",
      "============================\n",
      "Processing : 27000 running time is 1352.0267319999998 s\n",
      "============================ \n",
      "\n",
      "\n",
      "\n",
      "============================\n",
      "Processing : 30000 running time is 1470.302337 s\n",
      "============================ \n",
      "\n",
      "\n",
      "\n",
      "============================\n",
      "Processing : 33000 running time is 1651.7445010000001 s\n",
      "============================ \n",
      "\n",
      "\n",
      "\n",
      "============================\n",
      "Processing : 36000 running time is 1791.0520049999996 s\n",
      "============================ \n",
      "\n",
      "\n",
      "\n",
      "============================\n",
      "Processing : 39000 running time is 1927.2329979999995 s\n",
      "============================ \n",
      "\n",
      "\n",
      "\n",
      "============================\n",
      "Processing : 42000 running time is 2050.0826289999995 s\n",
      "============================ \n",
      "\n",
      "\n",
      "\n",
      "============================\n",
      "Processing : 45000 running time is 2166.135837 s\n",
      "============================ \n",
      "\n",
      "2224.482844\n",
      "446612\n"
     ]
    },
    {
     "name": "stderr",
     "output_type": "stream",
     "text": [
      "/anaconda3/envs/semester/lib/python3.7/site-packages/ipykernel_launcher.py:38: DeprecationWarning: time.clock has been deprecated in Python 3.3 and will be removed from Python 3.8: use time.perf_counter or time.process_time instead\n"
     ]
    }
   ],
   "source": [
    "g = os.walk(\"/Volumes/Files/en/OpenSubtitles/xml/en/\")\n",
    "folder_path = \"/Volumes/Files/en/OpenSubtitles/txt/\"\n",
    "file_path = \"/Volumes/Files/en/OpenSubtitles/AllFilePath.txt\"\n",
    "\n",
    "cnt = 0\n",
    "tos = time.clock()\n",
    "\n",
    "# g = os.walk('./')\n",
    "# folder_path = './'\n",
    "# looping over all .xml files in that folder\n",
    "# for path,dir_list,file_list in g:  \n",
    "#     for file_name in file_list:\n",
    "\n",
    "bias =400000\n",
    "for i in range(bias+1,446613):\n",
    "    tmp_path = linecache.getline(file_path, i).strip()\n",
    "    if cnt%3000 == 0:\n",
    "        runtime = time.clock()-tos\n",
    "        time.sleep(60)\n",
    "        # tos = runtime\n",
    "        print('\\n')\n",
    "        print('============================')\n",
    "        print('Processing :',cnt,'running time is',runtime,'s')\n",
    "        print('============================','\\n')\n",
    "#         if file_name.endswith(\".xml\"): \n",
    "#             tmp_path = os.path.join(path,file_name)\n",
    "    # save dialogue           \n",
    "    try:\n",
    "        s_list,time_diff,prefix_ = OpenSubtitleSentence(tmp_path)\n",
    "        if len(s_list) & len(time_diff):\n",
    "            save_path = folder_path + prefix_+ os.path.basename(tmp_path).split('.')[0] + '.txt' \n",
    "            SaveSentence(save_path,s_list,time_diff)       \n",
    "    except Exception as e:\n",
    "        f = open(folder_path+'Error.txt','a')\n",
    "        f.write(tmp_path+'Error line: '+str(cnt))\n",
    "        f.write('\\n')\n",
    "    cnt += 1\n",
    "print(time.clock()-tos)\n",
    "print(i)"
   ]
  },
  {
   "cell_type": "code",
   "execution_count": 23,
   "metadata": {},
   "outputs": [
    {
     "data": {
      "text/plain": [
       "0.8125"
      ]
     },
     "execution_count": 23,
     "metadata": {},
     "output_type": "execute_result"
    }
   ],
   "source": [
    "13/16"
   ]
  },
  {
   "cell_type": "code",
   "execution_count": 25,
   "metadata": {},
   "outputs": [
    {
     "name": "stdout",
     "output_type": "stream",
     "text": [
      "200000\n"
     ]
    }
   ],
   "source": [
    "print(i)"
   ]
  },
  {
   "cell_type": "markdown",
   "metadata": {},
   "source": [
    " 1 - 10000: 112,349,604,678\n",
    " 10001 - 20000 : 214,391,589,649\n",
    " 20001 - 30000 : 160,318,470,526\n",
    " 30001 - 40000 : 160,303,476,543\n",
    " 40001 - 60000 : 179,350,518,712,874,1042,1159\n",
    " 60001 - 80000 : 159, 328,536,702,852,1030,1171\n",
    " 80001 - 100000 : 151,324,512,641,858,959,1143\n",
    "8,838, 512 MB\n",
    " \n",
    " "
   ]
  },
  {
   "cell_type": "code",
   "execution_count": 10,
   "metadata": {
    "scrolled": true
   },
   "outputs": [
    {
     "name": "stderr",
     "output_type": "stream",
     "text": [
      "/anaconda3/envs/semester/lib/python3.7/site-packages/ipykernel_launcher.py:7: DeprecationWarning: time.clock has been deprecated in Python 3.3 and will be removed from Python 3.8: use time.perf_counter or time.process_time instead\n",
      "  import sys\n"
     ]
    }
   ],
   "source": [
    "# the root data folder \n",
    "#g = os.walk(\"/Volumes/Files/en/OpenSubtitles/xml/en/\")\n",
    "g = os.walk('./')\n",
    "\n",
    "total_time = []\n",
    "total_dura = []\n",
    "tos = time.clock()\n",
    "# looping over all .xml files in that folder\n",
    "for path,dir_list,file_list in g:  \n",
    "    for file_name in file_list:\n",
    "        if file_name.endswith(\".xml\"): \n",
    "            tmp_path = os.path.join(path,file_name)    \n",
    "            s_list,time_diff,prefix_ = OpenSubtitleSentence(tmp_path)\n",
    "            save_path = os.path.basename(tmp_path).split('.')[0] + '.txt' \n",
    "            if len(s_list) & len(time_diff):\n",
    "                SaveSentence(prefix_+save_path,s_list,time_diff)\n"
   ]
  },
  {
   "cell_type": "code",
   "execution_count": 44,
   "metadata": {},
   "outputs": [],
   "source": [
    "def OpenSubtitleOriginal(file_path):\n",
    "    # import data\n",
    "    tree = ET.parse(file_path)\n",
    "    root = tree.getroot()\n",
    "\n",
    "    # To see if the subtitle is translated from another language\n",
    "    # if the original language is not English then we skip this file\n",
    "    element = root.find('meta').find('source').find('original')\n",
    "    if element is not None:\n",
    "        if element.text:\n",
    "            return element.text\n",
    "    return 'Other'\n"
   ]
  },
  {
   "cell_type": "code",
   "execution_count": 45,
   "metadata": {
    "scrolled": true
   },
   "outputs": [
    {
     "name": "stderr",
     "output_type": "stream",
     "text": [
      "/anaconda3/envs/semester/lib/python3.7/site-packages/ipykernel_launcher.py:5: DeprecationWarning: time.clock has been deprecated in Python 3.3 and will be removed from Python 3.8: use time.perf_counter or time.process_time instead\n",
      "  \"\"\"\n",
      "/anaconda3/envs/semester/lib/python3.7/site-packages/ipykernel_launcher.py:8: DeprecationWarning: time.clock has been deprecated in Python 3.3 and will be removed from Python 3.8: use time.perf_counter or time.process_time instead\n",
      "  \n"
     ]
    },
    {
     "name": "stdout",
     "output_type": "stream",
     "text": [
      "\n",
      "\n",
      "============================\n",
      "Processing : 0 running time is 0.0005199999999945248 s\n",
      "============================ \n",
      "\n",
      "\n",
      "\n",
      "============================\n",
      "Processing : 3000 running time is 54.911463 s\n",
      "============================ \n",
      "\n",
      "\n",
      "\n",
      "============================\n",
      "Processing : 6000 running time is 174.999783 s\n",
      "============================ \n",
      "\n",
      "\n",
      "\n",
      "============================\n",
      "Processing : 9000 running time is 294.39956599999994 s\n",
      "============================ \n",
      "\n"
     ]
    }
   ],
   "source": [
    "file_path = \"/Volumes/Files/en/OpenSubtitles/AllFilePath.txt\"\n",
    "\n",
    "language = []\n",
    "cnt = 0\n",
    "tos = time.clock()\n",
    "for i in range(1,10001):\n",
    "    if cnt%3000 == 0:\n",
    "        runtime = time.clock()-tos\n",
    "        time.sleep(60)\n",
    "        # tos = runtime\n",
    "        print('\\n')\n",
    "        print('============================')\n",
    "        print('Processing :',cnt,'running time is',runtime,'s')\n",
    "        print('============================','\\n')\n",
    "#         if file_name.endswith(\".xml\"): \n",
    "#             tmp_path = os.path.join(path,file_name)\n",
    "    tmp_path = linecache.getline(file_path, i).strip()\n",
    "    language.extend(OpenSubtitleOriginal(tmp_path).split(','))\n",
    "    cnt += 1"
   ]
  },
  {
   "cell_type": "code",
   "execution_count": 47,
   "metadata": {},
   "outputs": [],
   "source": [
    "import pandas as pd\n",
    "\n",
    "lang_pd = pd.Series(language)"
   ]
  },
  {
   "cell_type": "markdown",
   "metadata": {},
   "source": [
    "---"
   ]
  },
  {
   "cell_type": "code",
   "execution_count": 5,
   "metadata": {
    "scrolled": true
   },
   "outputs": [
    {
     "data": {
      "text/plain": [
       "(array([5.363e+03, 4.582e+03, 1.210e+02, 1.100e+01, 0.000e+00, 1.000e+00,\n",
       "        1.000e+00, 0.000e+00, 0.000e+00, 1.000e+00]),\n",
       " array([    0. ,  5423.3, 10846.6, 16269.9, 21693.2, 27116.5, 32539.8,\n",
       "        37963.1, 43386.4, 48809.7, 54233. ]),\n",
       " <a list of 10 Patch objects>)"
      ]
     },
     "execution_count": 5,
     "metadata": {},
     "output_type": "execute_result"
    },
    {
     "data": {
      "image/png": "[encoded data removed]",
      "text/plain": [
       "<Figure size 432x288 with 1 Axes>"
      ]
     },
     "metadata": {
      "needs_background": "light"
     },
     "output_type": "display_data"
    }
   ],
   "source": [
    "plt.hist(total_dura[1:],log=True)"
   ]
  },
  {
   "cell_type": "code",
   "execution_count": 9,
   "metadata": {},
   "outputs": [
    {
     "data": {
      "text/plain": [
       "(array([ 41.,  73., 182.,  83.,  62.,  37.,  86., 225., 107.,  92.]),\n",
       " array([   0. ,  179.7,  359.4,  539.1,  718.8,  898.5, 1078.2, 1257.9,\n",
       "        1437.6, 1617.3, 1797. ]),\n",
       " <a list of 10 Patch objects>)"
      ]
     },
     "execution_count": 9,
     "metadata": {},
     "output_type": "execute_result"
    },
    {
     "data": {
      "image/png": "[encoded data removed]",
      "text/plain": [
       "<Figure size 432x288 with 1 Axes>"
      ]
     },
     "metadata": {
      "needs_background": "light"
     },
     "output_type": "display_data"
    }
   ],
   "source": [
    "test = np.array(total_dura)\n",
    "test = test[test<1800]\n",
    "plt.hist(test)"
   ]
  },
  {
   "cell_type": "code",
   "execution_count": 8,
   "metadata": {},
   "outputs": [],
   "source": [
    "tree = ET.parse(tmp_path)\n",
    "root = tree.getroot()\n"
   ]
  },
  {
   "cell_type": "code",
   "execution_count": 63,
   "metadata": {},
   "outputs": [
    {
     "data": {
      "text/plain": [
       "'EN'"
      ]
     },
     "execution_count": 63,
     "metadata": {},
     "output_type": "execute_result"
    }
   ],
   "source": [
    "element = root.find('meta').find('source').find('original')\n",
    "if element is not None:\n",
    "    if element.text:\n",
    "        if 'English' in element.text:\n",
    "            prefix = 'EN'\n",
    "        else:\n",
    "            prefix = 'NEN'\n",
    "    else:\n",
    "        prefix = 'OTH'\n",
    "else:\n",
    "    prefix = 'OTH'\n",
    "prefix"
   ]
  },
  {
   "cell_type": "code",
   "execution_count": 10,
   "metadata": {},
   "outputs": [],
   "source": [
    "s_list,time_diff,prefix_ = OpenSubtitleSentence(tmp_path)"
   ]
  },
  {
   "cell_type": "code",
   "execution_count": 11,
   "metadata": {},
   "outputs": [
    {
     "data": {
      "text/plain": [
       "'EN_'"
      ]
     },
     "execution_count": 11,
     "metadata": {},
     "output_type": "execute_result"
    }
   ],
   "source": [
    "prefix_"
   ]
  },
  {
   "cell_type": "code",
   "execution_count": 8,
   "metadata": {},
   "outputs": [
    {
     "ename": "NameError",
     "evalue": "name 'save_path' is not defined",
     "output_type": "error",
     "traceback": [
      "\u001b[0;31m---------------------------------------------------------------------------\u001b[0m",
      "\u001b[0;31mNameError\u001b[0m                                 Traceback (most recent call last)",
      "\u001b[0;32m<ipython-input-8-29d307d65113>\u001b[0m in \u001b[0;36m<module>\u001b[0;34m\u001b[0m\n\u001b[0;32m----> 1\u001b[0;31m \u001b[0msave_path\u001b[0m\u001b[0;34m\u001b[0m\u001b[0;34m\u001b[0m\u001b[0m\n\u001b[0m",
      "\u001b[0;31mNameError\u001b[0m: name 'save_path' is not defined"
     ]
    }
   ],
   "source": [
    "save_path"
   ]
  },
  {
   "cell_type": "code",
   "execution_count": null,
   "metadata": {},
   "outputs": [],
   "source": []
  }
 ],
 "metadata": {
  "kernelspec": {
   "display_name": "Python (semester)",
   "language": "python",
   "name": "semester"
  },
  "language_info": {
   "codemirror_mode": {
    "name": "ipython",
    "version": 3
   },
   "file_extension": ".py",
   "mimetype": "text/x-python",
   "name": "python",
   "nbconvert_exporter": "python",
   "pygments_lexer": "ipython3",
   "version": "3.7.2"
  }
 },
 "nbformat": 4,
 "nbformat_minor": 2
}
