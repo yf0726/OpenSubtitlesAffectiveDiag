{
 "cells": [
  {
   "cell_type": "code",
   "execution_count": 6,
   "metadata": {},
   "outputs": [],
   "source": [
    "import os\n",
    "import pickle\n",
    "import argparse\n",
    "import numpy as np\n",
    "from model import Options, Seq2SeqAttn\n",
    "import tensorflow as tf"
   ]
  },
  {
   "cell_type": "code",
   "execution_count": 2,
   "metadata": {},
   "outputs": [],
   "source": [
    "# Parse the command line arguments.\n",
    "parser = argparse.ArgumentParser()\n",
    "parser.add_argument('--data_path', type = str, default = '../pre-data/',\n",
    "                    help = 'the directory to the data')\n",
    "\n",
    "parser.add_argument('--word_embeddings_path', type = str, default = '../pre-data/word_embeddings.npy',\n",
    "                    help = 'the directory to the pre-trained word embeddings')\n",
    "parser.add_argument('--VAD_path', type = str, default = '../pre-data/VAD.npy',\n",
    "                    help = 'the directory to VAD')\n",
    "parser.add_argument('--tf_path', type = str, default = '../pre-data/tf.npy',\n",
    "                    help = 'the directory to term frequency')\n",
    "parser.add_argument('--VAD_loss_path', type = str, default = '../pre-data/VAD_loss.npy',\n",
    "                    help = 'the directory to VAD loss for each word')\n",
    "parser.add_argument('--ti_path', type = str, default = '../pre-data/mu_li.npy',\n",
    "                    help = 'the directory to term importance')\n",
    "\n",
    "parser.add_argument('--num_epochs', type = int, default = 1,\n",
    "                    help = 'the number of epochs to train the data')\n",
    "parser.add_argument('--batch_size', type = int, default = 64,\n",
    "                    help = 'the batch size')\n",
    "parser.add_argument('--learning_rate', type = float, default = 0.0001,\n",
    "                    help = 'the learning rate')\n",
    "parser.add_argument('--beam_width', type = int, default = 256,\n",
    "                    help = 'the beam width when decoding')\n",
    "parser.add_argument('--word_embed_size', type = int, default = 256,\n",
    "                    help = 'the size of word embeddings')\n",
    "parser.add_argument('--n_hidden_units_enc', type = int, default = 256,\n",
    "                    help = 'the number of hidden units of encoder')\n",
    "parser.add_argument('--n_hidden_units_dec', type = int, default = 256,\n",
    "                    help = 'the number of hidden units of decoder')\n",
    "# ? attn_depth\n",
    "parser.add_argument('--attn_depth', type = int, default = 128,\n",
    "                    help = 'attention depth')\n",
    "parser.add_argument('--restore_path', type = str, default = '../model_dailydialog_rf',\n",
    "                    help = 'the path to restore the trained model')\n",
    "parser.add_argument('--restore_epoch', type = int, default = 0,\n",
    "                    help = 'the epoch to restore')\n",
    "\n",
    "parser.add_argument('--save_path', type = str, default = '../model_dailydialog_rf',\n",
    "                    help = 'the path to save the trained model to')\n",
    "\n",
    "# args = parser.parse_args()\n",
    "args, unknown = parser.parse_known_args()\n"
   ]
  },
  {
   "cell_type": "code",
   "execution_count": 3,
   "metadata": {},
   "outputs": [],
   "source": [
    "def read_data(data_path):\n",
    "    def load_np_files(path):\n",
    "        my_set = {}\n",
    "        my_set['enc_input'] = np.load(os.path.join(path, 'enc_input.npy'))\n",
    "        my_set['dec_input'] = np.load(os.path.join(path, 'dec_input.npy'))\n",
    "        my_set['target'] = np.load(os.path.join(path, 'target.npy'))\n",
    "        my_set['enc_input_len'] = np.load(os.path.join(path, 'enc_input_len.npy'))\n",
    "        my_set['dec_input_len'] = np.load(os.path.join(path, 'dec_input_len.npy'))\n",
    "        return my_set\n",
    "    train_set = load_np_files(os.path.join(data_path, 'train'))\n",
    "    valid_set = load_np_files(os.path.join(data_path, 'validation'))\n",
    "    with open(os.path.join(data_path, 'token2id.pickle'), 'rb') as file:\n",
    "        token2id = pickle.load(file)\n",
    "\n",
    "    return train_set, valid_set, token2id"
   ]
  },
  {
   "cell_type": "code",
   "execution_count": 4,
   "metadata": {},
   "outputs": [],
   "source": [
    "train_set, valid_set, token2id = read_data(args.data_path)\n",
    "max_uttr_len_enc = train_set['enc_input'].shape[1]\n",
    "max_uttr_len_dec = train_set['dec_input'].shape[1]\n",
    "\n",
    "word_embeddings = np.load(args.word_embeddings_path)\n",
    "VAD = np.load(args.VAD_path)\n",
    "termfreq = np.load(args.ti_path) # term importance\n",
    "termfreq = termfreq.reshape(-1,1)\n",
    "VAD_loss = np.load(args.VAD_loss_path)\n",
    "VAD_loss = VAD_loss.reshape(-1,1)\n"
   ]
  },
  {
   "cell_type": "code",
   "execution_count": 9,
   "metadata": {},
   "outputs": [],
   "source": [
    "enc_input = train_set['enc_input'][0:5,:]\n",
    "dec_input = train_set['dec_input'][0:5,:]\n",
    "\n",
    "target = train_set['target'][0:5,:]\n",
    "enc_input_len = tf.placeholder(tf.int32, shape = [args.batch_size])"
   ]
  },
  {
   "cell_type": "code",
   "execution_count": 12,
   "metadata": {},
   "outputs": [],
   "source": [
    "with tf.variable_scope('embedding', reuse = tf.AUTO_REUSE):\n",
    "    word_embeddings = tf.Variable(word_embeddings, name = 'word_embeddings')\n",
    "\n",
    "    enc_input_embed = tf.nn.embedding_lookup(word_embeddings, enc_input)\n",
    "    dec_input_embed = tf.nn.embedding_lookup(word_embeddings, dec_input)\n",
    "\n",
    "    enc_input_VAD = tf.nn.embedding_lookup(VAD, enc_input)\n",
    "    target_VAD = tf.nn.embedding_lookup(VAD, target)\n",
    "\n",
    "    enc_input_tf = tf.nn.embedding_lookup(termfreq, enc_input)\n",
    "    target_tf = tf.nn.embedding_lookup(termfreq, target)\n",
    "\n",
    "    target_VAD_loss = tf.nn.embedding_lookup(VAD_loss, target)\n"
   ]
  },
  {
   "cell_type": "code",
   "execution_count": 30,
   "metadata": {
    "scrolled": true
   },
   "outputs": [
    {
     "name": "stdout",
     "output_type": "stream",
     "text": [
      "[[[ 0.9983619  -0.2800465  -0.7723718 ]\n",
      "  [ 0.31191275 -0.66652036  0.35526693]\n",
      "  [ 0.7690006  -0.18002531 -0.11645786]\n",
      "  [ 0.07688895  0.03892403 -0.02115805]\n",
      "  [ 0.0986229   0.05810172 -0.032325  ]\n",
      "  [ 0.5626453  -0.71000654  0.44308633]\n",
      "  [ 0.15535344 -0.917687    1.0313559 ]\n",
      "  [ 0.15535344 -0.917687    1.0313559 ]\n",
      "  [ 0.15535344 -0.917687    1.0313559 ]\n",
      "  [ 0.15535344 -0.917687    1.0313559 ]\n",
      "  [ 0.15535344 -0.917687    1.0313559 ]\n",
      "  [ 0.15535344 -0.917687    1.0313559 ]\n",
      "  [ 0.15535344 -0.917687    1.0313559 ]\n",
      "  [ 0.15535344 -0.917687    1.0313559 ]\n",
      "  [ 0.15535344 -0.917687    1.0313559 ]\n",
      "  [ 0.15535344 -0.917687    1.0313559 ]\n",
      "  [ 0.15535344 -0.917687    1.0313559 ]\n",
      "  [ 0.15535344 -0.917687    1.0313559 ]\n",
      "  [ 0.15535344 -0.917687    1.0313559 ]]\n",
      "\n",
      " [[-0.08771887 -1.2519332   0.6506698 ]\n",
      "  [ 1.3626304   0.02750129  0.03691274]\n",
      "  [ 1.1154425   0.15062073  0.10992754]\n",
      "  [ 0.03694773  0.00224326  0.00803591]\n",
      "  [ 0.5626453  -0.71000654  0.44308633]\n",
      "  [ 0.15535344 -0.917687    1.0313559 ]\n",
      "  [ 0.15535344 -0.917687    1.0313559 ]\n",
      "  [ 0.15535344 -0.917687    1.0313559 ]\n",
      "  [ 0.15535344 -0.917687    1.0313559 ]\n",
      "  [ 0.15535344 -0.917687    1.0313559 ]\n",
      "  [ 0.15535344 -0.917687    1.0313559 ]\n",
      "  [ 0.15535344 -0.917687    1.0313559 ]\n",
      "  [ 0.15535344 -0.917687    1.0313559 ]\n",
      "  [ 0.15535344 -0.917687    1.0313559 ]\n",
      "  [ 0.15535344 -0.917687    1.0313559 ]\n",
      "  [ 0.15535344 -0.917687    1.0313559 ]\n",
      "  [ 0.15535344 -0.917687    1.0313559 ]\n",
      "  [ 0.15535344 -0.917687    1.0313559 ]\n",
      "  [ 0.15535344 -0.917687    1.0313559 ]]\n",
      "\n",
      " [[ 0.9983619  -0.2800465  -0.7723718 ]\n",
      "  [ 0.31191275 -0.66652036  0.35526693]\n",
      "  [ 0.13959016 -0.5193316   0.11242063]\n",
      "  [-0.10233217 -0.20622249 -0.09002367]\n",
      "  [ 0.5626453  -0.71000654  0.44308633]\n",
      "  [ 0.15535344 -0.917687    1.0313559 ]\n",
      "  [ 0.15535344 -0.917687    1.0313559 ]\n",
      "  [ 0.15535344 -0.917687    1.0313559 ]\n",
      "  [ 0.15535344 -0.917687    1.0313559 ]\n",
      "  [ 0.15535344 -0.917687    1.0313559 ]\n",
      "  [ 0.15535344 -0.917687    1.0313559 ]\n",
      "  [ 0.15535344 -0.917687    1.0313559 ]\n",
      "  [ 0.15535344 -0.917687    1.0313559 ]\n",
      "  [ 0.15535344 -0.917687    1.0313559 ]\n",
      "  [ 0.15535344 -0.917687    1.0313559 ]\n",
      "  [ 0.15535344 -0.917687    1.0313559 ]\n",
      "  [ 0.15535344 -0.917687    1.0313559 ]\n",
      "  [ 0.15535344 -0.917687    1.0313559 ]\n",
      "  [ 0.15535344 -0.917687    1.0313559 ]]\n",
      "\n",
      " [[ 0.11110906  0.05724871 -0.08865388]\n",
      "  [ 0.19217521 -0.09047723  0.09644573]\n",
      "  [-0.01997789 -0.15011185  0.21087523]\n",
      "  [ 0.6019566  -1.0598079  -0.04005701]\n",
      "  [ 0.5626453  -0.71000654  0.44308633]\n",
      "  [ 0.15535344 -0.917687    1.0313559 ]\n",
      "  [ 0.15535344 -0.917687    1.0313559 ]\n",
      "  [ 0.15535344 -0.917687    1.0313559 ]\n",
      "  [ 0.15535344 -0.917687    1.0313559 ]\n",
      "  [ 0.15535344 -0.917687    1.0313559 ]\n",
      "  [ 0.15535344 -0.917687    1.0313559 ]\n",
      "  [ 0.15535344 -0.917687    1.0313559 ]\n",
      "  [ 0.15535344 -0.917687    1.0313559 ]\n",
      "  [ 0.15535344 -0.917687    1.0313559 ]\n",
      "  [ 0.15535344 -0.917687    1.0313559 ]\n",
      "  [ 0.15535344 -0.917687    1.0313559 ]\n",
      "  [ 0.15535344 -0.917687    1.0313559 ]\n",
      "  [ 0.15535344 -0.917687    1.0313559 ]\n",
      "  [ 0.15535344 -0.917687    1.0313559 ]]\n",
      "\n",
      " [[ 0.7723082   0.32963926  0.61397344]\n",
      "  [ 0.24492802 -0.16050905  0.05146689]\n",
      "  [ 0.204828   -0.1302013   0.05959751]\n",
      "  [ 1.2105403  -0.3699358   0.0933468 ]\n",
      "  [ 0.9983619  -0.2800465  -0.7723718 ]\n",
      "  [ 0.5201819   0.45438185  0.19157171]\n",
      "  [-0.09988892 -0.6342851   0.13543525]\n",
      "  [ 0.5626453  -0.71000654  0.44308633]\n",
      "  [ 0.15535344 -0.917687    1.0313559 ]\n",
      "  [ 0.15535344 -0.917687    1.0313559 ]\n",
      "  [ 0.15535344 -0.917687    1.0313559 ]\n",
      "  [ 0.15535344 -0.917687    1.0313559 ]\n",
      "  [ 0.15535344 -0.917687    1.0313559 ]\n",
      "  [ 0.15535344 -0.917687    1.0313559 ]\n",
      "  [ 0.15535344 -0.917687    1.0313559 ]\n",
      "  [ 0.15535344 -0.917687    1.0313559 ]\n",
      "  [ 0.15535344 -0.917687    1.0313559 ]\n",
      "  [ 0.15535344 -0.917687    1.0313559 ]\n",
      "  [ 0.15535344 -0.917687    1.0313559 ]]]\n"
     ]
    }
   ],
   "source": [
    "init = tf.global_variables_initializer()\n",
    "# _attention_Wb = tf.layers.Dense(units=3,use_bias=False)\n",
    "# beta = _attention_Wb.apply(enc_input_embed)\n",
    "\n",
    "with tf.Session() as sess:\n",
    "    sess.run(init)\n",
    "    v = sess.run(beta)\n",
    "    print(v)  # will show you your variable.\n"
   ]
  },
  {
   "cell_type": "code",
   "execution_count": 31,
   "metadata": {},
   "outputs": [],
   "source": [
    "num_examples = train_set['enc_input'].shape[0]\n",
    "num_batches = num_examples // args.batch_size"
   ]
  },
  {
   "cell_type": "code",
   "execution_count": 32,
   "metadata": {},
   "outputs": [
    {
     "data": {
      "text/plain": [
       "225"
      ]
     },
     "execution_count": 32,
     "metadata": {},
     "output_type": "execute_result"
    }
   ],
   "source": [
    "num_batches"
   ]
  },
  {
   "cell_type": "code",
   "execution_count": 35,
   "metadata": {},
   "outputs": [
    {
     "data": {
      "text/plain": [
       "56"
      ]
     },
     "execution_count": 35,
     "metadata": {},
     "output_type": "execute_result"
    }
   ],
   "source": [
    "num_examples//256"
   ]
  },
  {
   "cell_type": "code",
   "execution_count": 41,
   "metadata": {},
   "outputs": [
    {
     "data": {
      "text/plain": [
       "(128, 19)"
      ]
     },
     "execution_count": 41,
     "metadata": {},
     "output_type": "execute_result"
    }
   ],
   "source": [
    "train_set['enc_input'][:128,].shape"
   ]
  },
  {
   "cell_type": "code",
   "execution_count": null,
   "metadata": {},
   "outputs": [],
   "source": []
  }
 ],
 "metadata": {
  "kernelspec": {
   "display_name": "Python (semester)",
   "language": "python",
   "name": "semester"
  },
  "language_info": {
   "codemirror_mode": {
    "name": "ipython",
    "version": 3
   },
   "file_extension": ".py",
   "mimetype": "text/x-python",
   "name": "python",
   "nbconvert_exporter": "python",
   "pygments_lexer": "ipython3",
   "version": "3.6.8"
  }
 },
 "nbformat": 4,
 "nbformat_minor": 2
}
