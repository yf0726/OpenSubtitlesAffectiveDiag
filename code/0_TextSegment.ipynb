{
 "cells": [
  {
   "cell_type": "code",
   "execution_count": 122,
   "metadata": {},
   "outputs": [],
   "source": [
    "import nltk\n",
    "import os\n",
    "import chardet\n",
    "import re"
   ]
  },
  {
   "cell_type": "code",
   "execution_count": 12,
   "metadata": {},
   "outputs": [],
   "source": [
    "# nltk.download('gutenberg')"
   ]
  },
  {
   "cell_type": "code",
   "execution_count": 13,
   "metadata": {
    "scrolled": true
   },
   "outputs": [],
   "source": [
    "# alice=nltk.corpus.gutenberg.raw('carroll-alice.txt')\n",
    "# ttt = nltk.tokenize.TextTilingTokenizer(stopwords='<EOS>')\n",
    "# tiles = ttt.tokenize(alice[140309 : ])"
   ]
  },
  {
   "cell_type": "markdown",
   "metadata": {},
   "source": [
    "Movie DIC\n",
    "https://github.com/julianser/hed-dlg-truncated/issues/5"
   ]
  },
  {
   "cell_type": "markdown",
   "metadata": {},
   "source": [
    "---"
   ]
  },
  {
   "cell_type": "markdown",
   "metadata": {},
   "source": [
    "[The NPS Chat Corpus](http://faculty.nps.edu/cmartell/NPSChat.htm)\n",
    "10,567 posts "
   ]
  },
  {
   "cell_type": "code",
   "execution_count": 37,
   "metadata": {},
   "outputs": [],
   "source": [
    "from nltk.corpus import nps_chat\n"
   ]
  },
  {
   "cell_type": "code",
   "execution_count": 42,
   "metadata": {},
   "outputs": [
    {
     "name": "stdout",
     "output_type": "stream",
     "text": [
      "Greet 10-19-20sUser59\n",
      "hey everyone  \n",
      "[('hey', 'UH'), ('everyone', 'NN')]\n",
      "\n",
      "Statement 10-19-20sUser115\n",
      "ah well\n",
      "[('ah', 'UH'), ('well', 'UH')]\n",
      "\n"
     ]
    }
   ],
   "source": [
    "for p in nps_chat.xml_posts()[3:5]:\n",
    "    print(p.get(\"class\"), p.get(\"user\"))\n",
    "    print(p.text)\n",
    "    tagged_words = list((t.get(\"word\"), t.get(\"pos\")) for t in p[0]) # <-- here it is\n",
    "    print(tagged_words)\n",
    "    print()"
   ]
  },
  {
   "cell_type": "code",
   "execution_count": 44,
   "metadata": {},
   "outputs": [],
   "source": [
    "posts = nltk.corpus.nps_chat.xml_posts()\n",
    "Labeled_names=[(post.text,post.get('class')) for post in posts]"
   ]
  },
  {
   "cell_type": "code",
   "execution_count": 46,
   "metadata": {},
   "outputs": [
    {
     "data": {
      "text/plain": [
       "[('now im left with this gay name', 'Statement'),\n",
       " (':P', 'Emotion'),\n",
       " ('PART', 'System'),\n",
       " ('hey everyone  ', 'Greet'),\n",
       " ('ah well', 'Statement'),\n",
       " ('NICK :10-19-20sUser7', 'System'),\n",
       " ('10-19-20sUser7 is a gay name.', 'Accept'),\n",
       " ('.ACTION gives 10-19-20sUser121 a golf clap.', 'System'),\n",
       " (':)', 'Emotion'),\n",
       " ('JOIN', 'System'),\n",
       " ('hi 10-19-20sUser59', 'Greet'),\n",
       " ('26/ m/ ky women that are nice please pm me', 'Statement'),\n",
       " ('JOIN', 'System'),\n",
       " ('PART', 'System'),\n",
       " ('there ya go 10-19-20sUser7', 'Statement'),\n",
       " (\"don't golf clap me.\", 'Reject'),\n",
       " ('fuck you 10-19-20sUser121:@', 'Reject'),\n",
       " ('whats everyone up to?', 'whQuestion'),\n",
       " ('PART', 'System'),\n",
       " ('PART', 'System'),\n",
       " (\"i'll thunder clap your ass.\", 'Statement'),\n",
       " ('PART', 'System'),\n",
       " ('and i dont even know what that means.', 'Continuer'),\n",
       " ('that sounds painful', 'Statement'),\n",
       " ('any ladis wanna chat? 29 m', 'ynQuestion'),\n",
       " ('26/m', 'Statement'),\n",
       " ('JOIN', 'System'),\n",
       " ('my cousin drew a messed up pic on my cast', 'Statement'),\n",
       " ('PART', 'System'),\n",
       " ('24/m', 'Statement')]"
      ]
     },
     "execution_count": 46,
     "metadata": {},
     "output_type": "execute_result"
    }
   ],
   "source": [
    "Labeled_names[:30]"
   ]
  },
  {
   "cell_type": "markdown",
   "metadata": {},
   "source": [
    "---\n",
    "TextTiling"
   ]
  },
  {
   "cell_type": "markdown",
   "metadata": {},
   "source": [
    "Similarity determination:\n",
    "\n",
    "\n",
    "* Vocabulary Introduction: Similarity is measured as the negative of the number of new terms introduced on either side of the gap\n",
    "\n",
    "* Block Comparison: compute correlation coefficients between left and right blocks based on within-block term frequency (without inverse document frequency) (We will use this method) Normalized inner product of two word vectors"
   ]
  },
  {
   "cell_type": "code",
   "execution_count": 121,
   "metadata": {},
   "outputs": [],
   "source": [
    "def multiple_replace(dict_, text):\n",
    "    # Create a regular expression  from the dictionary keys\n",
    "    regex = re.compile(\"(%s)\" % \"|\".join(map(re.escape, dict_.keys())))\n",
    "    # For each match, look-up corresponding value in dictionary\n",
    "    return regex.sub(lambda mo: dict_[mo.string[mo.start():mo.end()]], text) \n",
    "\n",
    "dict_sub = {'\\\"':'\\'','´':'\\'',\n",
    "            '\\'s':' \\'s','\\'m':' \\'m','\\'ve':' \\'ve','\\'re':' \\'re','\\'ll':' \\'ll','\\'d':' \\'d'}"
   ]
  },
  {
   "cell_type": "code",
   "execution_count": 2,
   "metadata": {
    "scrolled": true
   },
   "outputs": [],
   "source": [
    "from smart_open import smart_open\n",
    "class MyCorpus(object):\n",
    "    def __init__(self, dirname):\n",
    "        self.dirname = dirname\n",
    " \n",
    "    def __iter__(self):\n",
    "        for fname in os.listdir(self.dirname):\n",
    "            if not fname.endswith('.txt'):\n",
    "                continue\n",
    "            f = open(os.path.join(self.dirname, fname), 'rb')\n",
    "            line = f.read()\n",
    "            f.close()\n",
    "\n",
    "#             for line in smart_open(os.path.join(self.dirname, fname), 'rb'):\n",
    "            encode_type = chardet.detect(line)  \n",
    "            line = line.decode(encode_type['encoding']) #进行相应解码，赋给原标识符（变量）\n",
    "            line = line.replace('<EOS>\\n','\\n')\n",
    "            line = line.replace('<EOS>','\\n')\n",
    "            line = line.replace('\\n','\\n\\n')\n",
    "            yield line"
   ]
  },
  {
   "cell_type": "code",
   "execution_count": 3,
   "metadata": {},
   "outputs": [],
   "source": [
    "corpus = MyCorpus('./data/')"
   ]
  },
  {
   "cell_type": "code",
   "execution_count": 4,
   "metadata": {},
   "outputs": [],
   "source": [
    "sentences_list = []\n",
    "for s in corpus:\n",
    "    sentences_list.append(s)\n",
    "#sentences = ' '.join(sentences)"
   ]
  },
  {
   "cell_type": "code",
   "execution_count": 31,
   "metadata": {},
   "outputs": [],
   "source": [
    "# sentences = ' '.join(sentences_list)\n",
    "sentences = sentences_list[1]\n",
    "ttt = nltk.tokenize.TextTilingTokenizer(w=5)\n",
    "tiles = ttt.tokenize(sentences)"
   ]
  },
  {
   "cell_type": "code",
   "execution_count": 32,
   "metadata": {},
   "outputs": [],
   "source": [
    "f = open('./TextSegment/TextTiling.txt','a')\n",
    "for item in tiles:\n",
    "    f.write(item)\n",
    "    f.write('\\n\\n================END OF THIS SEGMENT================\\n\\n')"
   ]
  },
  {
   "cell_type": "code",
   "execution_count": 34,
   "metadata": {},
   "outputs": [
    {
     "data": {
      "text/plain": [
       "1289"
      ]
     },
     "execution_count": 34,
     "metadata": {},
     "output_type": "execute_result"
    }
   ],
   "source": [
    "sentences.count('\\n\\n')"
   ]
  },
  {
   "cell_type": "code",
   "execution_count": 35,
   "metadata": {},
   "outputs": [
    {
     "data": {
      "text/plain": [
       "225"
      ]
     },
     "execution_count": 35,
     "metadata": {},
     "output_type": "execute_result"
    }
   ],
   "source": [
    "len(tiles)"
   ]
  },
  {
   "cell_type": "code",
   "execution_count": 36,
   "metadata": {},
   "outputs": [
    {
     "data": {
      "text/plain": [
       "5.728888888888889"
      ]
     },
     "execution_count": 36,
     "metadata": {},
     "output_type": "execute_result"
    }
   ],
   "source": [
    "sentences.count('\\n\\n')/len(tiles)"
   ]
  },
  {
   "cell_type": "markdown",
   "metadata": {},
   "source": [
    "---\n",
    "Word Embedding + TextTiling like + virtual sentence"
   ]
  },
  {
   "cell_type": "code",
   "execution_count": 63,
   "metadata": {},
   "outputs": [],
   "source": [
    "from gensim import corpora,models\n",
    "from sklearn.metrics.pairwise import cosine_similarity\n",
    "import numpy as np\n",
    "import matplotlib.pyplot as plt"
   ]
  },
  {
   "cell_type": "code",
   "execution_count": 204,
   "metadata": {},
   "outputs": [],
   "source": [
    "from smart_open import smart_open\n",
    "class MyCorpus2(object):\n",
    "    def __init__(self, dirname):\n",
    "        self.dirname = dirname\n",
    " \n",
    "    def __iter__(self):\n",
    "        for fname in os.listdir(self.dirname):\n",
    "            if not fname.endswith('.txt'):\n",
    "                continue\n",
    "            for line in smart_open(os.path.join(self.dirname, fname), 'rb'):\n",
    "#             for line in smart_open(os.path.join(self.dirname, fname), 'rb'):\n",
    "                encode_type = chardet.detect(line) \n",
    "                line = line.decode(encode_type['encoding']) #进行相应解码，赋给原标识符（变量）\n",
    "                line = line.lower()\n",
    "                line = multiple_replace(dict_sub, line)\n",
    "                \n",
    "                line = re.sub(',|\\.|\\?|\\!|\\.\\.\\.|-', '', line)\n",
    "                line = line.replace('<eos>\\n','')\n",
    "                line = line.replace('<eos>','')\n",
    "                yield line"
   ]
  },
  {
   "cell_type": "code",
   "execution_count": 205,
   "metadata": {},
   "outputs": [],
   "source": [
    "sentences = MyCorpus2('./data/')\n",
    "sentences = [x.split() for x in sentences]"
   ]
  },
  {
   "cell_type": "code",
   "execution_count": 206,
   "metadata": {},
   "outputs": [],
   "source": [
    "model = models.Word2Vec(sentences, min_count=1,size=256)"
   ]
  },
  {
   "cell_type": "code",
   "execution_count": 207,
   "metadata": {},
   "outputs": [
    {
     "data": {
      "text/plain": [
       "['a',\n",
       " 'big',\n",
       " 'typhoon',\n",
       " 'is',\n",
       " 'brewing',\n",
       " 'south',\n",
       " 'of',\n",
       " 'the',\n",
       " 'ryukyu',\n",
       " 'islands',\n",
       " 'heading',\n",
       " 'northeast',\n",
       " 'at',\n",
       " '<num>',\n",
       " 'mile',\n",
       " 'per',\n",
       " 'hour']"
      ]
     },
     "execution_count": 207,
     "metadata": {},
     "output_type": "execute_result"
    }
   ],
   "source": [
    "sentences[0]"
   ]
  },
  {
   "cell_type": "code",
   "execution_count": 208,
   "metadata": {},
   "outputs": [
    {
     "name": "stdout",
     "output_type": "stream",
     "text": [
      "Word2Vec(vocab=3212, size=256, alpha=0.025)\n"
     ]
    }
   ],
   "source": [
    "print(model)"
   ]
  },
  {
   "cell_type": "code",
   "execution_count": 209,
   "metadata": {},
   "outputs": [],
   "source": [
    "def heuristic_max(s1,s2,model=model):\n",
    "#     s1 = list(set(s1))\n",
    "#     s2 = list(set(s2))\n",
    "    matrix = np.zeros((len(s1),len(s2)))\n",
    "    for i in range(len(s1)):\n",
    "        for j in range(len(s2)):\n",
    "            matrix[i][j] = cosine_similarity(model.wv[s1[i]].reshape(1,-1),model.wv[s2[j]].reshape(1,-1))\n",
    "    return np.sum(np.max(matrix,1))/len(s1)\n",
    "    #return matrix"
   ]
  },
  {
   "cell_type": "code",
   "execution_count": 210,
   "metadata": {},
   "outputs": [
    {
     "data": {
      "text/plain": [
       "0.9999287009239197"
      ]
     },
     "execution_count": 210,
     "metadata": {},
     "output_type": "execute_result"
    }
   ],
   "source": [
    "heuristic_max(sentences[1],sentences[10],model)"
   ]
  },
  {
   "cell_type": "code",
   "execution_count": null,
   "metadata": {},
   "outputs": [],
   "source": []
  },
  {
   "cell_type": "code",
   "execution_count": 199,
   "metadata": {},
   "outputs": [],
   "source": [
    "similarity = []\n",
    "for i in range(len(sentences)-1):\n",
    "    similarity.append(heuristic_max(sentences[i],sentences[i+1]))"
   ]
  },
  {
   "cell_type": "code",
   "execution_count": 181,
   "metadata": {},
   "outputs": [
    {
     "data": {
      "text/plain": [
       "1036"
      ]
     },
     "execution_count": 181,
     "metadata": {},
     "output_type": "execute_result"
    }
   ],
   "source": [
    "len(similarity)"
   ]
  },
  {
   "cell_type": "code",
   "execution_count": 200,
   "metadata": {},
   "outputs": [
    {
     "data": {
      "text/plain": [
       "[<matplotlib.lines.Line2D at 0x1a1a64f550>]"
      ]
     },
     "execution_count": 200,
     "metadata": {},
     "output_type": "execute_result"
    },
    {
     "data": {
      "image/png": "[encoded data removed]",
      "text/plain": [
       "<Figure size 720x576 with 1 Axes>"
      ]
     },
     "metadata": {
      "needs_background": "light"
     },
     "output_type": "display_data"
    }
   ],
   "source": [
    "plt.figure(figsize=(10,8))\n",
    "plt.plot(np.sort(similarity),'.')\n"
   ]
  },
  {
   "cell_type": "code",
   "execution_count": 201,
   "metadata": {},
   "outputs": [
    {
     "data": {
      "text/plain": [
       "0.9214488979625074"
      ]
     },
     "execution_count": 201,
     "metadata": {},
     "output_type": "execute_result"
    }
   ],
   "source": [
    "np.quantile(similarity,0.05)"
   ]
  },
  {
   "cell_type": "code",
   "execution_count": null,
   "metadata": {},
   "outputs": [],
   "source": []
  }
 ],
 "metadata": {
  "kernelspec": {
   "display_name": "Python (semester)",
   "language": "python",
   "name": "semester"
  },
  "language_info": {
   "codemirror_mode": {
    "name": "ipython",
    "version": 3
   },
   "file_extension": ".py",
   "mimetype": "text/x-python",
   "name": "python",
   "nbconvert_exporter": "python",
   "pygments_lexer": "ipython3",
   "version": "3.6.8"
  }
 },
 "nbformat": 4,
 "nbformat_minor": 2
}
