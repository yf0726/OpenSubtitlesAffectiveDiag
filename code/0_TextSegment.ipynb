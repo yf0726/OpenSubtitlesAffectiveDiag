{
 "cells": [
  {
   "cell_type": "code",
   "execution_count": 122,
   "metadata": {},
   "outputs": [],
   "source": [
    "import nltk\n",
    "import os\n",
    "import chardet\n",
    "import re"
   ]
  },
  {
   "cell_type": "code",
   "execution_count": 12,
   "metadata": {},
   "outputs": [],
   "source": [
    "# nltk.download('gutenberg')"
   ]
  },
  {
   "cell_type": "code",
   "execution_count": 13,
   "metadata": {
    "scrolled": true
   },
   "outputs": [],
   "source": [
    "# alice=nltk.corpus.gutenberg.raw('carroll-alice.txt')\n",
    "# ttt = nltk.tokenize.TextTilingTokenizer(stopwords='<EOS>')\n",
    "# tiles = ttt.tokenize(alice[140309 : ])"
   ]
  },
  {
   "cell_type": "markdown",
   "metadata": {},
   "source": [
    "Movie DIC\n",
    "https://github.com/julianser/hed-dlg-truncated/issues/5"
   ]
  },
  {
   "cell_type": "markdown",
   "metadata": {},
   "source": [
    "---"
   ]
  },
  {
   "cell_type": "markdown",
   "metadata": {},
   "source": [
    "[The NPS Chat Corpus](http://faculty.nps.edu/cmartell/NPSChat.htm)\n",
    "10,567 posts "
   ]
  },
  {
   "cell_type": "code",
   "execution_count": 37,
   "metadata": {},
   "outputs": [],
   "source": [
    "from nltk.corpus import nps_chat\n"
   ]
  },
  {
   "cell_type": "code",
   "execution_count": 42,
   "metadata": {},
   "outputs": [
    {
     "name": "stdout",
     "output_type": "stream",
     "text": [
      "Greet 10-19-20sUser59\n",
      "hey everyone  \n",
      "[('hey', 'UH'), ('everyone', 'NN')]\n",
      "\n",
      "Statement 10-19-20sUser115\n",
      "ah well\n",
      "[('ah', 'UH'), ('well', 'UH')]\n",
      "\n"
     ]
    }
   ],
   "source": [
    "for p in nps_chat.xml_posts()[3:5]:\n",
    "    print(p.get(\"class\"), p.get(\"user\"))\n",
    "    print(p.text)\n",
    "    tagged_words = list((t.get(\"word\"), t.get(\"pos\")) for t in p[0]) # <-- here it is\n",
    "    print(tagged_words)\n",
    "    print()"
   ]
  },
  {
   "cell_type": "code",
   "execution_count": 44,
   "metadata": {},
   "outputs": [],
   "source": [
    "posts = nltk.corpus.nps_chat.xml_posts()\n",
    "Labeled_names=[(post.text,post.get('class')) for post in posts]"
   ]
  },
  {
   "cell_type": "code",
   "execution_count": 46,
   "metadata": {},
   "outputs": [
    {
     "data": {
      "text/plain": [
       "[('now im left with this gay name', 'Statement'),\n",
       " (':P', 'Emotion'),\n",
       " ('PART', 'System'),\n",
       " ('hey everyone  ', 'Greet'),\n",
       " ('ah well', 'Statement'),\n",
       " ('NICK :10-19-20sUser7', 'System'),\n",
       " ('10-19-20sUser7 is a gay name.', 'Accept'),\n",
       " ('.ACTION gives 10-19-20sUser121 a golf clap.', 'System'),\n",
       " (':)', 'Emotion'),\n",
       " ('JOIN', 'System'),\n",
       " ('hi 10-19-20sUser59', 'Greet'),\n",
       " ('26/ m/ ky women that are nice please pm me', 'Statement'),\n",
       " ('JOIN', 'System'),\n",
       " ('PART', 'System'),\n",
       " ('there ya go 10-19-20sUser7', 'Statement'),\n",
       " (\"don't golf clap me.\", 'Reject'),\n",
       " ('fuck you 10-19-20sUser121:@', 'Reject'),\n",
       " ('whats everyone up to?', 'whQuestion'),\n",
       " ('PART', 'System'),\n",
       " ('PART', 'System'),\n",
       " (\"i'll thunder clap your ass.\", 'Statement'),\n",
       " ('PART', 'System'),\n",
       " ('and i dont even know what that means.', 'Continuer'),\n",
       " ('that sounds painful', 'Statement'),\n",
       " ('any ladis wanna chat? 29 m', 'ynQuestion'),\n",
       " ('26/m', 'Statement'),\n",
       " ('JOIN', 'System'),\n",
       " ('my cousin drew a messed up pic on my cast', 'Statement'),\n",
       " ('PART', 'System'),\n",
       " ('24/m', 'Statement')]"
      ]
     },
     "execution_count": 46,
     "metadata": {},
     "output_type": "execute_result"
    }
   ],
   "source": [
    "Labeled_names[:30]"
   ]
  },
  {
   "cell_type": "markdown",
   "metadata": {},
   "source": [
    "---\n",
    "TextTiling"
   ]
  },
  {
   "cell_type": "markdown",
   "metadata": {},
   "source": [
    "Similarity determination:\n",
    "\n",
    "\n",
    "* Vocabulary Introduction: Similarity is measured as the negative of the number of new terms introduced on either side of the gap\n",
    "\n",
    "* Block Comparison: compute correlation coefficients between left and right blocks based on within-block term frequency (without inverse document frequency) (We will use this method) Normalized inner product of two word vectors"
   ]
  },
  {
   "cell_type": "code",
   "execution_count": 121,
   "metadata": {},
   "outputs": [],
   "source": [
    "def multiple_replace(dict_, text):\n",
    "    # Create a regular expression  from the dictionary keys\n",
    "    regex = re.compile(\"(%s)\" % \"|\".join(map(re.escape, dict_.keys())))\n",
    "    # For each match, look-up corresponding value in dictionary\n",
    "    return regex.sub(lambda mo: dict_[mo.string[mo.start():mo.end()]], text) \n",
    "\n",
    "dict_sub = {'\\\"':'\\'','´':'\\'',\n",
    "            '\\'s':' \\'s','\\'m':' \\'m','\\'ve':' \\'ve','\\'re':' \\'re','\\'ll':' \\'ll','\\'d':' \\'d'}"
   ]
  },
  {
   "cell_type": "code",
   "execution_count": 2,
   "metadata": {
    "scrolled": true
   },
   "outputs": [],
   "source": [
    "from smart_open import smart_open\n",
    "class MyCorpus(object):\n",
    "    def __init__(self, dirname):\n",
    "        self.dirname = dirname\n",
    " \n",
    "    def __iter__(self):\n",
    "        for fname in os.listdir(self.dirname):\n",
    "            if not fname.endswith('.txt'):\n",
    "                continue\n",
    "            f = open(os.path.join(self.dirname, fname), 'rb')\n",
    "            line = f.read()\n",
    "            f.close()\n",
    "\n",
    "#             for line in smart_open(os.path.join(self.dirname, fname), 'rb'):\n",
    "            encode_type = chardet.detect(line)  \n",
    "            line = line.decode(encode_type['encoding']) #进行相应解码，赋给原标识符（变量）\n",
    "            line = line.replace('<EOS>\\n','\\n')\n",
    "            line = line.replace('<EOS>','\\n')\n",
    "            line = line.replace('\\n','\\n\\n')\n",
    "            yield line"
   ]
  },
  {
   "cell_type": "code",
   "execution_count": 3,
   "metadata": {},
   "outputs": [],
   "source": [
    "corpus = MyCorpus('./data/')"
   ]
  },
  {
   "cell_type": "code",
   "execution_count": 4,
   "metadata": {},
   "outputs": [],
   "source": [
    "sentences_list = []\n",
    "for s in corpus:\n",
    "    sentences_list.append(s)\n",
    "#sentences = ' '.join(sentences)"
   ]
  },
  {
   "cell_type": "code",
   "execution_count": 31,
   "metadata": {},
   "outputs": [],
   "source": [
    "# sentences = ' '.join(sentences_list)\n",
    "sentences = sentences_list[1]\n",
    "ttt = nltk.tokenize.TextTilingTokenizer(w=5)\n",
    "tiles = ttt.tokenize(sentences)"
   ]
  },
  {
   "cell_type": "code",
   "execution_count": 32,
   "metadata": {},
   "outputs": [],
   "source": [
    "f = open('./TextSegment/TextTiling.txt','a')\n",
    "for item in tiles:\n",
    "    f.write(item)\n",
    "    f.write('\\n\\n================END OF THIS SEGMENT================\\n\\n')"
   ]
  },
  {
   "cell_type": "code",
   "execution_count": 34,
   "metadata": {},
   "outputs": [
    {
     "data": {
      "text/plain": [
       "1289"
      ]
     },
     "execution_count": 34,
     "metadata": {},
     "output_type": "execute_result"
    }
   ],
   "source": [
    "sentences.count('\\n\\n')"
   ]
  },
  {
   "cell_type": "code",
   "execution_count": 35,
   "metadata": {},
   "outputs": [
    {
     "data": {
      "text/plain": [
       "225"
      ]
     },
     "execution_count": 35,
     "metadata": {},
     "output_type": "execute_result"
    }
   ],
   "source": [
    "len(tiles)"
   ]
  },
  {
   "cell_type": "code",
   "execution_count": 36,
   "metadata": {},
   "outputs": [
    {
     "data": {
      "text/plain": [
       "5.728888888888889"
      ]
     },
     "execution_count": 36,
     "metadata": {},
     "output_type": "execute_result"
    }
   ],
   "source": [
    "sentences.count('\\n\\n')/len(tiles)"
   ]
  },
  {
   "cell_type": "markdown",
   "metadata": {},
   "source": [
    "---\n",
    "Word Embedding + TextTiling like + virtual sentence"
   ]
  },
  {
   "cell_type": "code",
   "execution_count": 63,
   "metadata": {},
   "outputs": [],
   "source": [
    "from gensim import corpora,models\n",
    "from sklearn.metrics.pairwise import cosine_similarity\n",
    "import numpy as np\n",
    "import matplotlib.pyplot as plt"
   ]
  },
  {
   "cell_type": "code",
   "execution_count": 204,
   "metadata": {},
   "outputs": [],
   "source": [
    "from smart_open import smart_open\n",
    "class MyCorpus2(object):\n",
    "    def __init__(self, dirname):\n",
    "        self.dirname = dirname\n",
    " \n",
    "    def __iter__(self):\n",
    "        for fname in os.listdir(self.dirname):\n",
    "            if not fname.endswith('.txt'):\n",
    "                continue\n",
    "            for line in smart_open(os.path.join(self.dirname, fname), 'rb'):\n",
    "#             for line in smart_open(os.path.join(self.dirname, fname), 'rb'):\n",
    "                encode_type = chardet.detect(line) \n",
    "                line = line.decode(encode_type['encoding']) #进行相应解码，赋给原标识符（变量）\n",
    "                line = line.lower()\n",
    "                line = multiple_replace(dict_sub, line)\n",
    "                \n",
    "                line = re.sub(',|\\.|\\?|\\!|\\.\\.\\.|-', '', line)\n",
    "                line = line.replace('<eos>\\n','')\n",
    "                line = line.replace('<eos>','')\n",
    "                yield line"
   ]
  },
  {
   "cell_type": "code",
   "execution_count": 205,
   "metadata": {},
   "outputs": [],
   "source": [
    "sentences = MyCorpus2('./data/')\n",
    "sentences = [x.split() for x in sentences]"
   ]
  },
  {
   "cell_type": "code",
   "execution_count": 206,
   "metadata": {},
   "outputs": [],
   "source": [
    "model = models.Word2Vec(sentences, min_count=1,size=256)"
   ]
  },
  {
   "cell_type": "code",
   "execution_count": 207,
   "metadata": {},
   "outputs": [
    {
     "data": {
      "text/plain": [
       "['a',\n",
       " 'big',\n",
       " 'typhoon',\n",
       " 'is',\n",
       " 'brewing',\n",
       " 'south',\n",
       " 'of',\n",
       " 'the',\n",
       " 'ryukyu',\n",
       " 'islands',\n",
       " 'heading',\n",
       " 'northeast',\n",
       " 'at',\n",
       " '<num>',\n",
       " 'mile',\n",
       " 'per',\n",
       " 'hour']"
      ]
     },
     "execution_count": 207,
     "metadata": {},
     "output_type": "execute_result"
    }
   ],
   "source": [
    "sentences[0]"
   ]
  },
  {
   "cell_type": "code",
   "execution_count": 208,
   "metadata": {},
   "outputs": [
    {
     "name": "stdout",
     "output_type": "stream",
     "text": [
      "Word2Vec(vocab=3212, size=256, alpha=0.025)\n"
     ]
    }
   ],
   "source": [
    "print(model)"
   ]
  },
  {
   "cell_type": "code",
   "execution_count": 210,
   "metadata": {},
   "outputs": [
    {
     "data": {
      "text/plain": [
       "0.9999287009239197"
      ]
     },
     "execution_count": 210,
     "metadata": {},
     "output_type": "execute_result"
    }
   ],
   "source": [
    "heuristic_max(sentences[1],sentences[10],model)"
   ]
  },
  {
   "cell_type": "code",
   "execution_count": null,
   "metadata": {},
   "outputs": [],
   "source": []
  },
  {
   "cell_type": "code",
   "execution_count": 199,
   "metadata": {},
   "outputs": [],
   "source": [
    "similarity = []\n",
    "for i in range(len(sentences)-1):\n",
    "    similarity.append(heuristic_max(sentences[i],sentences[i+1]))"
   ]
  },
  {
   "cell_type": "code",
   "execution_count": 181,
   "metadata": {},
   "outputs": [
    {
     "data": {
      "text/plain": [
       "1036"
      ]
     },
     "execution_count": 181,
     "metadata": {},
     "output_type": "execute_result"
    }
   ],
   "source": [
    "len(similarity)"
   ]
  },
  {
   "cell_type": "code",
   "execution_count": 200,
   "metadata": {},
   "outputs": [
    {
     "data": {
      "text/plain": [
       "[<matplotlib.lines.Line2D at 0x1a1a64f550>]"
      ]
     },
     "execution_count": 200,
     "metadata": {},
     "output_type": "execute_result"
    },
    {
     "data": {
      "image/png": "[encoded data removed]",
      "text/plain": [
       "<Figure size 720x576 with 1 Axes>"
      ]
     },
     "metadata": {
      "needs_background": "light"
     },
     "output_type": "display_data"
    }
   ],
   "source": [
    "plt.figure(figsize=(10,8))\n",
    "plt.plot(np.sort(similarity),'.')\n"
   ]
  },
  {
   "cell_type": "code",
   "execution_count": 201,
   "metadata": {},
   "outputs": [
    {
     "data": {
      "text/plain": [
       "0.9214488979625074"
      ]
     },
     "execution_count": 201,
     "metadata": {},
     "output_type": "execute_result"
    }
   ],
   "source": [
    "np.quantile(similarity,0.05)"
   ]
  },
  {
   "cell_type": "markdown",
   "metadata": {},
   "source": [
    "---"
   ]
  },
  {
   "cell_type": "code",
   "execution_count": 1,
   "metadata": {},
   "outputs": [],
   "source": [
    "import pandas as pd\n",
    "import matplotlib.pyplot as plt"
   ]
  },
  {
   "cell_type": "code",
   "execution_count": 2,
   "metadata": {},
   "outputs": [],
   "source": [
    "import gensim\n",
    "\n",
    "# Load Google's pre-trained Word2Vec model.\n",
    "# model1 = gensim.models.KeyedVectors.load_word2vec_format('GoogleNews-vectors-negative300.bin.gz', binary=True)\n",
    "model4 = gensim.models.Word2Vec.load('./word2vec/model_inter_virtual')"
   ]
  },
  {
   "cell_type": "code",
   "execution_count": 3,
   "metadata": {},
   "outputs": [],
   "source": [
    "from smart_open import smart_open\n",
    "import os\n",
    "import chardet\n",
    "import numpy as np\n",
    "from sklearn.metrics.pairwise import cosine_similarity\n",
    "from nltk.tokenize import RegexpTokenizer\n",
    "from nltk.corpus import stopwords\n",
    "from sklearn import metrics\n",
    "import nltk\n",
    "\n",
    "stop = set(stopwords.words('english'))\n",
    "\n",
    "def read_lines(dirname):\n",
    "    line_dict = {}\n",
    "    with open(dirname, 'r', encoding='iso-8859-1') as f:  # TODO: Solve Iso encoding pb !\n",
    "        tokenizer = RegexpTokenizer(r'\\w+')\n",
    "        for line in f:\n",
    "            line = line.replace('[','').replace(']','')\n",
    "            tmp = line.split('\\n')[0].split(\" +++$+++ \")\n",
    "            line_ = nltk.word_tokenize(tmp[-1])\n",
    "#             line_ = tokenizer.tokenize(tmp[-1].lower())\n",
    "#             line_ = [x for x in line_ if x not in stop]\n",
    "            line_dict[tmp[0]] = {'ID1':tmp[1],'MovieID':tmp[2],'Name':tmp[3],'Line':line_}\n",
    "        return line_dict\n",
    "    \n",
    "def read_conversations(dirname):\n",
    "    conva_dict = {}\n",
    "    with open(dirname, 'r', encoding='iso-8859-1') as f:  # TODO: Solve Iso encoding pb !\n",
    "        for line in f:\n",
    "            line = line.replace('[','').replace(']','').replace('\\'','')\n",
    "            tmp = line.split('\\n')[0].split(\" +++$+++ \")\n",
    "            yield tmp"
   ]
  },
  {
   "cell_type": "code",
   "execution_count": 4,
   "metadata": {},
   "outputs": [],
   "source": [
    "def heuristic_max(s1_ID,s2_ID,line_dict, model=model4.wv):\n",
    "#     s1 = list(set(s1))\n",
    "#     s2 = list(set(s2))\n",
    "    s1 = movie_lines[s1_ID]['Line']\n",
    "    s2 = movie_lines[s2_ID]['Line']\n",
    "    if len(s1)*len(s2) == 0:\n",
    "        return np.nan\n",
    "    matrix = np.zeros((len(s1),len(s2)))\n",
    "    for i in range(len(s1)):\n",
    "        s1_vec = model[s1[i]] if s1[i] in model.vocab.keys() else np.random.normal(scale = 0.1,size = 300)\n",
    "        for j in range(len(s2)):            \n",
    "            s2_vec = model[s2[j]] if s2[j] in model.vocab.keys() else np.random.normal(scale = 0.1, size = 300)\n",
    "            matrix[i][j] = cosine_similarity(s1_vec.reshape(1,-1),s2_vec.reshape(1,-1))\n",
    "    return np.sum(np.max(matrix,1))/len(s1)\n",
    "    #return matrix"
   ]
  },
  {
   "cell_type": "code",
   "execution_count": 5,
   "metadata": {},
   "outputs": [],
   "source": [
    "# copy from https://scipy-cookbook.readthedocs.io/items/SignalSmooth.html\n",
    "import numpy\n",
    "\n",
    "def smooth(x,window_len=11,window='hanning'):\n",
    "    \"\"\"smooth the data using a window with requested size.\n",
    "    \n",
    "    This method is based on the convolution of a scaled window with the signal.\n",
    "    The signal is prepared by introducing reflected copies of the signal \n",
    "    (with the window size) in both ends so that transient parts are minimized\n",
    "    in the begining and end part of the output signal.\n",
    "    \n",
    "    input:\n",
    "        x: the input signal \n",
    "        window_len: the dimension of the smoothing window; should be an odd integer\n",
    "        window: the type of window from 'flat', 'hanning', 'hamming', 'bartlett', 'blackman'\n",
    "            flat window will produce a moving average smoothing.\n",
    "\n",
    "    output:\n",
    "        the smoothed signal\n",
    "        \n",
    "    example:\n",
    "\n",
    "    t=linspace(-2,2,0.1)\n",
    "    x=sin(t)+randn(len(t))*0.1\n",
    "    y=smooth(x)\n",
    "    \n",
    "    see also: \n",
    "    \n",
    "    numpy.hanning, numpy.hamming, numpy.bartlett, numpy.blackman, numpy.convolve\n",
    "    scipy.signal.lfilter\n",
    " \n",
    "    TODO: the window parameter could be the window itself if an array instead of a string\n",
    "    NOTE: length(output) != length(input), to correct this: return y[(window_len/2-1):-(window_len/2)] instead of just y.\n",
    "    \"\"\"\n",
    "\n",
    "    if x.ndim != 1:\n",
    "        raise(ValueError, \"smooth only accepts 1 dimension arrays.\")\n",
    "\n",
    "    if x.size < window_len:\n",
    "        raise(ValueError, \"Input vector needs to be bigger than window size.\")\n",
    "\n",
    "    if window_len<3:\n",
    "        return x\n",
    "\n",
    "    if not window in ['flat', 'hanning', 'hamming', 'bartlett', 'blackman']:\n",
    "        raise(ValueError, \"Window is on of 'flat', 'hanning', 'hamming', 'bartlett', 'blackman'\")\n",
    "\n",
    "\n",
    "    s=numpy.r_[x[window_len-1:0:-1],x,x[-2:-window_len-1:-1]]\n",
    "    #print(len(s))\n",
    "    if window == 'flat': #moving average\n",
    "        w=numpy.ones(window_len,'d')\n",
    "    else:\n",
    "        w=eval('numpy.'+window+'(window_len)')\n",
    "\n",
    "    y=numpy.convolve(w/w.sum(),s,mode='valid')\n",
    "    return y[window_len//2:-window_len//2+1]"
   ]
  },
  {
   "cell_type": "code",
   "execution_count": 6,
   "metadata": {},
   "outputs": [],
   "source": [
    "movie_lines = read_lines('../datasets/cornell-corpus/movie_lines.txt')"
   ]
  },
  {
   "cell_type": "code",
   "execution_count": 7,
   "metadata": {
    "scrolled": true
   },
   "outputs": [],
   "source": [
    "conversations = read_conversations('../datasets/cornell-corpus/movie_conversations.txt')\n",
    "conversations = [x for x in conversations]"
   ]
  },
  {
   "cell_type": "code",
   "execution_count": 8,
   "metadata": {
    "scrolled": false
   },
   "outputs": [
    {
     "data": {
      "text/html": [
       "<div>\n",
       "<style scoped>\n",
       "    .dataframe tbody tr th:only-of-type {\n",
       "        vertical-align: middle;\n",
       "    }\n",
       "\n",
       "    .dataframe tbody tr th {\n",
       "        vertical-align: top;\n",
       "    }\n",
       "\n",
       "    .dataframe thead th {\n",
       "        text-align: right;\n",
       "    }\n",
       "</style>\n",
       "<table border=\"1\" class=\"dataframe\">\n",
       "  <thead>\n",
       "    <tr style=\"text-align: right;\">\n",
       "      <th></th>\n",
       "      <th>ID1</th>\n",
       "      <th>ID2</th>\n",
       "      <th>MovieID</th>\n",
       "      <th>LineIDs</th>\n",
       "    </tr>\n",
       "  </thead>\n",
       "  <tbody>\n",
       "    <tr>\n",
       "      <th>0</th>\n",
       "      <td>u0</td>\n",
       "      <td>u2</td>\n",
       "      <td>m0</td>\n",
       "      <td>L194, L195, L196, L197</td>\n",
       "    </tr>\n",
       "    <tr>\n",
       "      <th>1</th>\n",
       "      <td>u0</td>\n",
       "      <td>u2</td>\n",
       "      <td>m0</td>\n",
       "      <td>L198, L199</td>\n",
       "    </tr>\n",
       "    <tr>\n",
       "      <th>2</th>\n",
       "      <td>u0</td>\n",
       "      <td>u2</td>\n",
       "      <td>m0</td>\n",
       "      <td>L200, L201, L202, L203</td>\n",
       "    </tr>\n",
       "    <tr>\n",
       "      <th>3</th>\n",
       "      <td>u0</td>\n",
       "      <td>u2</td>\n",
       "      <td>m0</td>\n",
       "      <td>L204, L205, L206</td>\n",
       "    </tr>\n",
       "    <tr>\n",
       "      <th>4</th>\n",
       "      <td>u0</td>\n",
       "      <td>u2</td>\n",
       "      <td>m0</td>\n",
       "      <td>L207, L208</td>\n",
       "    </tr>\n",
       "  </tbody>\n",
       "</table>\n",
       "</div>"
      ],
      "text/plain": [
       "  ID1 ID2 MovieID                 LineIDs\n",
       "0  u0  u2      m0  L194, L195, L196, L197\n",
       "1  u0  u2      m0              L198, L199\n",
       "2  u0  u2      m0  L200, L201, L202, L203\n",
       "3  u0  u2      m0        L204, L205, L206\n",
       "4  u0  u2      m0              L207, L208"
      ]
     },
     "execution_count": 8,
     "metadata": {},
     "output_type": "execute_result"
    }
   ],
   "source": [
    "conversations = pd.DataFrame(conversations)\n",
    "conversations.columns = ['ID1','ID2','MovieID','LineIDs']\n",
    "conversations.head(5)"
   ]
  },
  {
   "cell_type": "code",
   "execution_count": 16,
   "metadata": {},
   "outputs": [
    {
     "name": "stdout",
     "output_type": "stream",
     "text": [
      "L194 ['Can', 'we', 'make', 'this', 'quick', '?', 'Roxanne', 'Korrine', 'and', 'Andrew', 'Barrett', 'are', 'having', 'an', 'incredibly', 'horrendous', 'public', 'break-', 'up', 'on', 'the', 'quad', '.', 'Again', '.']\n",
      "L195 ['Well', ',', 'I', 'thought', 'we', \"'d\", 'start', 'with', 'pronunciation', ',', 'if', 'that', \"'s\", 'okay', 'with', 'you', '.']\n",
      "L196 ['Not', 'the', 'hacking', 'and', 'gagging', 'and', 'spitting', 'part', '.', 'Please', '.']\n",
      "L197 ['Okay', '...', 'then', 'how', \"'bout\", 'we', 'try', 'out', 'some', 'French', 'cuisine', '.', 'Saturday', '?', 'Night', '?']\n"
     ]
    }
   ],
   "source": [
    "for ids in conversations.LineIDs[0].split(', '):\n",
    "    print(ids,movie_lines[ids]['Line'])"
   ]
  },
  {
   "cell_type": "code",
   "execution_count": 18,
   "metadata": {
    "scrolled": true
   },
   "outputs": [
    {
     "data": {
      "text/html": [
       "<div>\n",
       "<style scoped>\n",
       "    .dataframe tbody tr th:only-of-type {\n",
       "        vertical-align: middle;\n",
       "    }\n",
       "\n",
       "    .dataframe tbody tr th {\n",
       "        vertical-align: top;\n",
       "    }\n",
       "\n",
       "    .dataframe thead th {\n",
       "        text-align: right;\n",
       "    }\n",
       "</style>\n",
       "<table border=\"1\" class=\"dataframe\">\n",
       "  <thead>\n",
       "    <tr style=\"text-align: right;\">\n",
       "      <th></th>\n",
       "      <th>ID1</th>\n",
       "      <th>ID2</th>\n",
       "      <th>MovieID</th>\n",
       "      <th>LineIDs</th>\n",
       "      <th>startID</th>\n",
       "    </tr>\n",
       "  </thead>\n",
       "  <tbody>\n",
       "    <tr>\n",
       "      <th>0</th>\n",
       "      <td>u0</td>\n",
       "      <td>u3</td>\n",
       "      <td>m0</td>\n",
       "      <td>L49, L50, L51</td>\n",
       "      <td>49</td>\n",
       "    </tr>\n",
       "    <tr>\n",
       "      <th>1</th>\n",
       "      <td>u8</td>\n",
       "      <td>u9</td>\n",
       "      <td>m0</td>\n",
       "      <td>L59, L60, L61, L62</td>\n",
       "      <td>59</td>\n",
       "    </tr>\n",
       "    <tr>\n",
       "      <th>2</th>\n",
       "      <td>u2</td>\n",
       "      <td>u7</td>\n",
       "      <td>m0</td>\n",
       "      <td>L63, L64, L65</td>\n",
       "      <td>63</td>\n",
       "    </tr>\n",
       "    <tr>\n",
       "      <th>3</th>\n",
       "      <td>u2</td>\n",
       "      <td>u7</td>\n",
       "      <td>m0</td>\n",
       "      <td>L66, L67, L68, L69, L70, L71, L72, L73, L74</td>\n",
       "      <td>66</td>\n",
       "    </tr>\n",
       "    <tr>\n",
       "      <th>4</th>\n",
       "      <td>u2</td>\n",
       "      <td>u7</td>\n",
       "      <td>m0</td>\n",
       "      <td>L77, L78</td>\n",
       "      <td>77</td>\n",
       "    </tr>\n",
       "  </tbody>\n",
       "</table>\n",
       "</div>"
      ],
      "text/plain": [
       "  ID1 ID2 MovieID                                      LineIDs  startID\n",
       "0  u0  u3      m0                                L49, L50, L51       49\n",
       "1  u8  u9      m0                           L59, L60, L61, L62       59\n",
       "2  u2  u7      m0                                L63, L64, L65       63\n",
       "3  u2  u7      m0  L66, L67, L68, L69, L70, L71, L72, L73, L74       66\n",
       "4  u2  u7      m0                                     L77, L78       77"
      ]
     },
     "execution_count": 18,
     "metadata": {},
     "output_type": "execute_result"
    }
   ],
   "source": [
    "def split_func(string):\n",
    "    return int(string.split(', ')[0][1:]) \n",
    "\n",
    "conversations['startID'] = conversations.LineIDs.apply(split_func)\n",
    "conversations = conversations.sort_values(by='startID').reset_index(drop=True)\n",
    "conversations.head(5)"
   ]
  },
  {
   "cell_type": "code",
   "execution_count": 19,
   "metadata": {},
   "outputs": [
    {
     "data": {
      "text/html": [
       "<div>\n",
       "<style scoped>\n",
       "    .dataframe tbody tr th:only-of-type {\n",
       "        vertical-align: middle;\n",
       "    }\n",
       "\n",
       "    .dataframe tbody tr th {\n",
       "        vertical-align: top;\n",
       "    }\n",
       "\n",
       "    .dataframe thead th {\n",
       "        text-align: right;\n",
       "    }\n",
       "</style>\n",
       "<table border=\"1\" class=\"dataframe\">\n",
       "  <thead>\n",
       "    <tr style=\"text-align: right;\">\n",
       "      <th></th>\n",
       "      <th>ID1</th>\n",
       "      <th>ID2</th>\n",
       "      <th>MovieID</th>\n",
       "      <th>LineIDs</th>\n",
       "      <th>startID</th>\n",
       "      <th>label</th>\n",
       "    </tr>\n",
       "  </thead>\n",
       "  <tbody>\n",
       "    <tr>\n",
       "      <th>0</th>\n",
       "      <td>u0</td>\n",
       "      <td>u3</td>\n",
       "      <td>m0</td>\n",
       "      <td>L49, L50, L51</td>\n",
       "      <td>49</td>\n",
       "      <td>1</td>\n",
       "    </tr>\n",
       "    <tr>\n",
       "      <th>1</th>\n",
       "      <td>u8</td>\n",
       "      <td>u9</td>\n",
       "      <td>m0</td>\n",
       "      <td>L59, L60, L61, L62</td>\n",
       "      <td>59</td>\n",
       "      <td>1</td>\n",
       "    </tr>\n",
       "    <tr>\n",
       "      <th>2</th>\n",
       "      <td>u2</td>\n",
       "      <td>u7</td>\n",
       "      <td>m0</td>\n",
       "      <td>L63, L64, L65</td>\n",
       "      <td>63</td>\n",
       "      <td>1</td>\n",
       "    </tr>\n",
       "    <tr>\n",
       "      <th>3</th>\n",
       "      <td>u2</td>\n",
       "      <td>u7</td>\n",
       "      <td>m0</td>\n",
       "      <td>L66, L67, L68, L69, L70, L71, L72, L73, L74</td>\n",
       "      <td>66</td>\n",
       "      <td>0</td>\n",
       "    </tr>\n",
       "    <tr>\n",
       "      <th>4</th>\n",
       "      <td>u2</td>\n",
       "      <td>u7</td>\n",
       "      <td>m0</td>\n",
       "      <td>L77, L78</td>\n",
       "      <td>77</td>\n",
       "      <td>0</td>\n",
       "    </tr>\n",
       "  </tbody>\n",
       "</table>\n",
       "</div>"
      ],
      "text/plain": [
       "  ID1 ID2 MovieID                                      LineIDs  startID  label\n",
       "0  u0  u3      m0                                L49, L50, L51       49      1\n",
       "1  u8  u9      m0                           L59, L60, L61, L62       59      1\n",
       "2  u2  u7      m0                                L63, L64, L65       63      1\n",
       "3  u2  u7      m0  L66, L67, L68, L69, L70, L71, L72, L73, L74       66      0\n",
       "4  u2  u7      m0                                     L77, L78       77      0"
      ]
     },
     "execution_count": 19,
     "metadata": {},
     "output_type": "execute_result"
    }
   ],
   "source": [
    "test = (conversations[['ID1','ID2']] == conversations[['ID1','ID2']].shift())\n",
    "conversations['label'] = 1-(test['ID1'] & test['ID2'])*1\n",
    "conversations.head(5)"
   ]
  },
  {
   "cell_type": "code",
   "execution_count": 20,
   "metadata": {
    "scrolled": true
   },
   "outputs": [],
   "source": [
    "len_ = np.where(conversations.label==1)[0][1:] - np.where(conversations.label==1)[0][:-1]\n",
    "len_ = np.append(len_,conversations.label.tail(1))"
   ]
  },
  {
   "cell_type": "code",
   "execution_count": 21,
   "metadata": {},
   "outputs": [],
   "source": [
    "s_cnt = [[x]*y for x,y in zip(np.arange(sum(conversations.label)),len_)]\n",
    "s_cnt = [item for sublist in s_cnt for item in sublist]"
   ]
  },
  {
   "cell_type": "code",
   "execution_count": 22,
   "metadata": {},
   "outputs": [],
   "source": [
    "conversations['s_cnt'] = s_cnt"
   ]
  },
  {
   "cell_type": "code",
   "execution_count": 23,
   "metadata": {},
   "outputs": [],
   "source": [
    "foo = lambda a: ', '.join(a) "
   ]
  },
  {
   "cell_type": "code",
   "execution_count": 24,
   "metadata": {
    "scrolled": true
   },
   "outputs": [],
   "source": [
    "conv_new = conversations.groupby(['ID1','ID2','s_cnt']).agg({'LineIDs':foo}).reset_index()\n",
    "conv_new = conv_new.sort_values(by='s_cnt').reset_index(drop=True)"
   ]
  },
  {
   "cell_type": "code",
   "execution_count": 25,
   "metadata": {
    "scrolled": true
   },
   "outputs": [],
   "source": [
    "conv_new['Turn'] = conv_new.LineIDs.str.split(',').apply(len)"
   ]
  },
  {
   "cell_type": "code",
   "execution_count": 26,
   "metadata": {
    "scrolled": true
   },
   "outputs": [
    {
     "data": {
      "text/html": [
       "<div>\n",
       "<style scoped>\n",
       "    .dataframe tbody tr th:only-of-type {\n",
       "        vertical-align: middle;\n",
       "    }\n",
       "\n",
       "    .dataframe tbody tr th {\n",
       "        vertical-align: top;\n",
       "    }\n",
       "\n",
       "    .dataframe thead th {\n",
       "        text-align: right;\n",
       "    }\n",
       "</style>\n",
       "<table border=\"1\" class=\"dataframe\">\n",
       "  <thead>\n",
       "    <tr style=\"text-align: right;\">\n",
       "      <th></th>\n",
       "      <th>ID1</th>\n",
       "      <th>ID2</th>\n",
       "      <th>s_cnt</th>\n",
       "      <th>LineIDs</th>\n",
       "      <th>Turn</th>\n",
       "    </tr>\n",
       "  </thead>\n",
       "  <tbody>\n",
       "    <tr>\n",
       "      <th>0</th>\n",
       "      <td>u0</td>\n",
       "      <td>u3</td>\n",
       "      <td>0</td>\n",
       "      <td>L49, L50, L51</td>\n",
       "      <td>3</td>\n",
       "    </tr>\n",
       "    <tr>\n",
       "      <th>1</th>\n",
       "      <td>u8</td>\n",
       "      <td>u9</td>\n",
       "      <td>1</td>\n",
       "      <td>L59, L60, L61, L62</td>\n",
       "      <td>4</td>\n",
       "    </tr>\n",
       "    <tr>\n",
       "      <th>2</th>\n",
       "      <td>u2</td>\n",
       "      <td>u7</td>\n",
       "      <td>2</td>\n",
       "      <td>L63, L64, L65, L66, L67, L68, L69, L70, L71, L...</td>\n",
       "      <td>20</td>\n",
       "    </tr>\n",
       "    <tr>\n",
       "      <th>3</th>\n",
       "      <td>u5</td>\n",
       "      <td>u8</td>\n",
       "      <td>3</td>\n",
       "      <td>L103, L104, L105, L106, L107, L108, L109</td>\n",
       "      <td>7</td>\n",
       "    </tr>\n",
       "    <tr>\n",
       "      <th>4</th>\n",
       "      <td>u5</td>\n",
       "      <td>u6</td>\n",
       "      <td>4</td>\n",
       "      <td>L123, L124, L125, L126, L127, L128, L129, L130...</td>\n",
       "      <td>12</td>\n",
       "    </tr>\n",
       "    <tr>\n",
       "      <th>5</th>\n",
       "      <td>u2</td>\n",
       "      <td>u7</td>\n",
       "      <td>5</td>\n",
       "      <td>L139, L140, L141, L142, L143, L144, L145, L146...</td>\n",
       "      <td>9</td>\n",
       "    </tr>\n",
       "    <tr>\n",
       "      <th>6</th>\n",
       "      <td>u4</td>\n",
       "      <td>u5</td>\n",
       "      <td>6</td>\n",
       "      <td>L148, L149, L150</td>\n",
       "      <td>3</td>\n",
       "    </tr>\n",
       "    <tr>\n",
       "      <th>7</th>\n",
       "      <td>u5</td>\n",
       "      <td>u6</td>\n",
       "      <td>7</td>\n",
       "      <td>L151, L152</td>\n",
       "      <td>2</td>\n",
       "    </tr>\n",
       "    <tr>\n",
       "      <th>8</th>\n",
       "      <td>u2</td>\n",
       "      <td>u7</td>\n",
       "      <td>8</td>\n",
       "      <td>L157, L158, L159</td>\n",
       "      <td>3</td>\n",
       "    </tr>\n",
       "    <tr>\n",
       "      <th>9</th>\n",
       "      <td>u10</td>\n",
       "      <td>u11</td>\n",
       "      <td>9</td>\n",
       "      <td>L161, L162</td>\n",
       "      <td>2</td>\n",
       "    </tr>\n",
       "  </tbody>\n",
       "</table>\n",
       "</div>"
      ],
      "text/plain": [
       "   ID1  ID2  s_cnt                                            LineIDs  Turn\n",
       "0   u0   u3      0                                      L49, L50, L51     3\n",
       "1   u8   u9      1                                 L59, L60, L61, L62     4\n",
       "2   u2   u7      2  L63, L64, L65, L66, L67, L68, L69, L70, L71, L...    20\n",
       "3   u5   u8      3           L103, L104, L105, L106, L107, L108, L109     7\n",
       "4   u5   u6      4  L123, L124, L125, L126, L127, L128, L129, L130...    12\n",
       "5   u2   u7      5  L139, L140, L141, L142, L143, L144, L145, L146...     9\n",
       "6   u4   u5      6                                   L148, L149, L150     3\n",
       "7   u5   u6      7                                         L151, L152     2\n",
       "8   u2   u7      8                                   L157, L158, L159     3\n",
       "9  u10  u11      9                                         L161, L162     2"
      ]
     },
     "execution_count": 26,
     "metadata": {},
     "output_type": "execute_result"
    }
   ],
   "source": [
    "conv_new.head(10)"
   ]
  },
  {
   "cell_type": "code",
   "execution_count": 28,
   "metadata": {
    "scrolled": true
   },
   "outputs": [],
   "source": [
    "conv_filter = conv_new.loc[(conv_new.Turn>=4) & (conv_new.Turn<=10)].copy()"
   ]
  },
  {
   "cell_type": "code",
   "execution_count": 29,
   "metadata": {
    "scrolled": false
   },
   "outputs": [
    {
     "data": {
      "text/html": [
       "<div>\n",
       "<style scoped>\n",
       "    .dataframe tbody tr th:only-of-type {\n",
       "        vertical-align: middle;\n",
       "    }\n",
       "\n",
       "    .dataframe tbody tr th {\n",
       "        vertical-align: top;\n",
       "    }\n",
       "\n",
       "    .dataframe thead th {\n",
       "        text-align: right;\n",
       "    }\n",
       "</style>\n",
       "<table border=\"1\" class=\"dataframe\">\n",
       "  <thead>\n",
       "    <tr style=\"text-align: right;\">\n",
       "      <th></th>\n",
       "      <th>MovieID</th>\n",
       "      <th>label</th>\n",
       "      <th>LineIDs</th>\n",
       "    </tr>\n",
       "  </thead>\n",
       "  <tbody>\n",
       "    <tr>\n",
       "      <th>0</th>\n",
       "      <td>1</td>\n",
       "      <td>1</td>\n",
       "      <td>L59</td>\n",
       "    </tr>\n",
       "    <tr>\n",
       "      <th>1</th>\n",
       "      <td>1</td>\n",
       "      <td>0</td>\n",
       "      <td>L60</td>\n",
       "    </tr>\n",
       "    <tr>\n",
       "      <th>2</th>\n",
       "      <td>1</td>\n",
       "      <td>0</td>\n",
       "      <td>L61</td>\n",
       "    </tr>\n",
       "    <tr>\n",
       "      <th>3</th>\n",
       "      <td>1</td>\n",
       "      <td>0</td>\n",
       "      <td>L62</td>\n",
       "    </tr>\n",
       "    <tr>\n",
       "      <th>4</th>\n",
       "      <td>3</td>\n",
       "      <td>1</td>\n",
       "      <td>L103</td>\n",
       "    </tr>\n",
       "    <tr>\n",
       "      <th>5</th>\n",
       "      <td>3</td>\n",
       "      <td>0</td>\n",
       "      <td>L104</td>\n",
       "    </tr>\n",
       "    <tr>\n",
       "      <th>6</th>\n",
       "      <td>3</td>\n",
       "      <td>0</td>\n",
       "      <td>L105</td>\n",
       "    </tr>\n",
       "    <tr>\n",
       "      <th>7</th>\n",
       "      <td>3</td>\n",
       "      <td>0</td>\n",
       "      <td>L106</td>\n",
       "    </tr>\n",
       "    <tr>\n",
       "      <th>8</th>\n",
       "      <td>3</td>\n",
       "      <td>0</td>\n",
       "      <td>L107</td>\n",
       "    </tr>\n",
       "    <tr>\n",
       "      <th>9</th>\n",
       "      <td>3</td>\n",
       "      <td>0</td>\n",
       "      <td>L108</td>\n",
       "    </tr>\n",
       "  </tbody>\n",
       "</table>\n",
       "</div>"
      ],
      "text/plain": [
       "   MovieID  label LineIDs\n",
       "0        1      1     L59\n",
       "1        1      0     L60\n",
       "2        1      0     L61\n",
       "3        1      0     L62\n",
       "4        3      1    L103\n",
       "5        3      0    L104\n",
       "6        3      0    L105\n",
       "7        3      0    L106\n",
       "8        3      0    L107\n",
       "9        3      0    L108"
      ]
     },
     "execution_count": 29,
     "metadata": {},
     "output_type": "execute_result"
    }
   ],
   "source": [
    "new_df = pd.DataFrame(conv_filter.LineIDs.str.split(', ').tolist(),index=conv_filter.s_cnt).stack()\n",
    "new_df = new_df.reset_index()\n",
    "new_df.columns = ['MovieID','label','LineIDs']\n",
    "new_df.label = 1 - new_df.label.clip(upper=1)\n",
    "new_df.head(10)"
   ]
  },
  {
   "cell_type": "code",
   "execution_count": 31,
   "metadata": {},
   "outputs": [],
   "source": [
    "sim = [heuristic_max(new_df.LineIDs[i],new_df.LineIDs[i+1],line_dict = movie_lines) for i in range(len(new_df)-1)]"
   ]
  },
  {
   "cell_type": "code",
   "execution_count": 32,
   "metadata": {},
   "outputs": [
    {
     "data": {
      "text/plain": [
       "28808"
      ]
     },
     "execution_count": 32,
     "metadata": {},
     "output_type": "execute_result"
    }
   ],
   "source": [
    "len(model4.wv.vocab)"
   ]
  },
  {
   "cell_type": "code",
   "execution_count": 33,
   "metadata": {},
   "outputs": [],
   "source": [
    "sim_ = sim + [np.nan]"
   ]
  },
  {
   "cell_type": "code",
   "execution_count": 34,
   "metadata": {},
   "outputs": [],
   "source": [
    "new_df['similarity'] = sim_"
   ]
  },
  {
   "cell_type": "code",
   "execution_count": 35,
   "metadata": {},
   "outputs": [
    {
     "data": {
      "text/html": [
       "<div>\n",
       "<style scoped>\n",
       "    .dataframe tbody tr th:only-of-type {\n",
       "        vertical-align: middle;\n",
       "    }\n",
       "\n",
       "    .dataframe tbody tr th {\n",
       "        vertical-align: top;\n",
       "    }\n",
       "\n",
       "    .dataframe thead th {\n",
       "        text-align: right;\n",
       "    }\n",
       "</style>\n",
       "<table border=\"1\" class=\"dataframe\">\n",
       "  <thead>\n",
       "    <tr style=\"text-align: right;\">\n",
       "      <th></th>\n",
       "      <th>MovieID</th>\n",
       "      <th>label</th>\n",
       "      <th>LineIDs</th>\n",
       "      <th>similarity</th>\n",
       "    </tr>\n",
       "  </thead>\n",
       "  <tbody>\n",
       "    <tr>\n",
       "      <th>0</th>\n",
       "      <td>1</td>\n",
       "      <td>1</td>\n",
       "      <td>L59</td>\n",
       "      <td>0.733542</td>\n",
       "    </tr>\n",
       "    <tr>\n",
       "      <th>1</th>\n",
       "      <td>1</td>\n",
       "      <td>0</td>\n",
       "      <td>L60</td>\n",
       "      <td>0.466659</td>\n",
       "    </tr>\n",
       "    <tr>\n",
       "      <th>2</th>\n",
       "      <td>1</td>\n",
       "      <td>0</td>\n",
       "      <td>L61</td>\n",
       "      <td>0.257521</td>\n",
       "    </tr>\n",
       "    <tr>\n",
       "      <th>3</th>\n",
       "      <td>1</td>\n",
       "      <td>0</td>\n",
       "      <td>L62</td>\n",
       "      <td>0.339333</td>\n",
       "    </tr>\n",
       "    <tr>\n",
       "      <th>4</th>\n",
       "      <td>3</td>\n",
       "      <td>1</td>\n",
       "      <td>L103</td>\n",
       "      <td>0.465234</td>\n",
       "    </tr>\n",
       "  </tbody>\n",
       "</table>\n",
       "</div>"
      ],
      "text/plain": [
       "   MovieID  label LineIDs  similarity\n",
       "0        1      1     L59    0.733542\n",
       "1        1      0     L60    0.466659\n",
       "2        1      0     L61    0.257521\n",
       "3        1      0     L62    0.339333\n",
       "4        3      1    L103    0.465234"
      ]
     },
     "execution_count": 35,
     "metadata": {},
     "output_type": "execute_result"
    }
   ],
   "source": [
    "new_df.head()"
   ]
  },
  {
   "cell_type": "code",
   "execution_count": 36,
   "metadata": {
    "scrolled": true
   },
   "outputs": [
    {
     "data": {
      "text/html": [
       "<div>\n",
       "<style scoped>\n",
       "    .dataframe tbody tr th:only-of-type {\n",
       "        vertical-align: middle;\n",
       "    }\n",
       "\n",
       "    .dataframe tbody tr th {\n",
       "        vertical-align: top;\n",
       "    }\n",
       "\n",
       "    .dataframe thead th {\n",
       "        text-align: right;\n",
       "    }\n",
       "</style>\n",
       "<table border=\"1\" class=\"dataframe\">\n",
       "  <thead>\n",
       "    <tr style=\"text-align: right;\">\n",
       "      <th></th>\n",
       "      <th>MovieID</th>\n",
       "      <th>label</th>\n",
       "      <th>similarity</th>\n",
       "    </tr>\n",
       "  </thead>\n",
       "  <tbody>\n",
       "    <tr>\n",
       "      <th>count</th>\n",
       "      <td>95046.000000</td>\n",
       "      <td>95046.000000</td>\n",
       "      <td>94908.000000</td>\n",
       "    </tr>\n",
       "    <tr>\n",
       "      <th>mean</th>\n",
       "      <td>21460.702828</td>\n",
       "      <td>0.162100</td>\n",
       "      <td>0.462639</td>\n",
       "    </tr>\n",
       "    <tr>\n",
       "      <th>std</th>\n",
       "      <td>12451.119892</td>\n",
       "      <td>0.368545</td>\n",
       "      <td>0.141319</td>\n",
       "    </tr>\n",
       "    <tr>\n",
       "      <th>min</th>\n",
       "      <td>1.000000</td>\n",
       "      <td>0.000000</td>\n",
       "      <td>-0.069136</td>\n",
       "    </tr>\n",
       "    <tr>\n",
       "      <th>25%</th>\n",
       "      <td>10661.000000</td>\n",
       "      <td>0.000000</td>\n",
       "      <td>0.363042</td>\n",
       "    </tr>\n",
       "    <tr>\n",
       "      <th>50%</th>\n",
       "      <td>21450.000000</td>\n",
       "      <td>0.000000</td>\n",
       "      <td>0.448935</td>\n",
       "    </tr>\n",
       "    <tr>\n",
       "      <th>75%</th>\n",
       "      <td>32050.000000</td>\n",
       "      <td>0.000000</td>\n",
       "      <td>0.548716</td>\n",
       "    </tr>\n",
       "    <tr>\n",
       "      <th>max</th>\n",
       "      <td>43046.000000</td>\n",
       "      <td>1.000000</td>\n",
       "      <td>1.000000</td>\n",
       "    </tr>\n",
       "  </tbody>\n",
       "</table>\n",
       "</div>"
      ],
      "text/plain": [
       "            MovieID         label    similarity\n",
       "count  95046.000000  95046.000000  94908.000000\n",
       "mean   21460.702828      0.162100      0.462639\n",
       "std    12451.119892      0.368545      0.141319\n",
       "min        1.000000      0.000000     -0.069136\n",
       "25%    10661.000000      0.000000      0.363042\n",
       "50%    21450.000000      0.000000      0.448935\n",
       "75%    32050.000000      0.000000      0.548716\n",
       "max    43046.000000      1.000000      1.000000"
      ]
     },
     "execution_count": 36,
     "metadata": {},
     "output_type": "execute_result"
    }
   ],
   "source": [
    "new_df.describe()"
   ]
  },
  {
   "cell_type": "code",
   "execution_count": 37,
   "metadata": {},
   "outputs": [
    {
     "data": {
      "text/html": [
       "<div>\n",
       "<style scoped>\n",
       "    .dataframe tbody tr th:only-of-type {\n",
       "        vertical-align: middle;\n",
       "    }\n",
       "\n",
       "    .dataframe tbody tr th {\n",
       "        vertical-align: top;\n",
       "    }\n",
       "\n",
       "    .dataframe thead th {\n",
       "        text-align: right;\n",
       "    }\n",
       "</style>\n",
       "<table border=\"1\" class=\"dataframe\">\n",
       "  <thead>\n",
       "    <tr style=\"text-align: right;\">\n",
       "      <th></th>\n",
       "      <th>MovieID</th>\n",
       "      <th>label</th>\n",
       "      <th>similarity</th>\n",
       "    </tr>\n",
       "  </thead>\n",
       "  <tbody>\n",
       "    <tr>\n",
       "      <th>count</th>\n",
       "      <td>15407.000000</td>\n",
       "      <td>15407.0</td>\n",
       "      <td>15390.000000</td>\n",
       "    </tr>\n",
       "    <tr>\n",
       "      <th>mean</th>\n",
       "      <td>21465.194911</td>\n",
       "      <td>1.0</td>\n",
       "      <td>0.455749</td>\n",
       "    </tr>\n",
       "    <tr>\n",
       "      <th>std</th>\n",
       "      <td>12439.838487</td>\n",
       "      <td>0.0</td>\n",
       "      <td>0.144662</td>\n",
       "    </tr>\n",
       "    <tr>\n",
       "      <th>min</th>\n",
       "      <td>1.000000</td>\n",
       "      <td>1.0</td>\n",
       "      <td>-0.020791</td>\n",
       "    </tr>\n",
       "    <tr>\n",
       "      <th>25%</th>\n",
       "      <td>10691.500000</td>\n",
       "      <td>1.0</td>\n",
       "      <td>0.354748</td>\n",
       "    </tr>\n",
       "    <tr>\n",
       "      <th>50%</th>\n",
       "      <td>21496.000000</td>\n",
       "      <td>1.0</td>\n",
       "      <td>0.439610</td>\n",
       "    </tr>\n",
       "    <tr>\n",
       "      <th>75%</th>\n",
       "      <td>32062.000000</td>\n",
       "      <td>1.0</td>\n",
       "      <td>0.539630</td>\n",
       "    </tr>\n",
       "    <tr>\n",
       "      <th>max</th>\n",
       "      <td>43046.000000</td>\n",
       "      <td>1.0</td>\n",
       "      <td>1.000000</td>\n",
       "    </tr>\n",
       "  </tbody>\n",
       "</table>\n",
       "</div>"
      ],
      "text/plain": [
       "            MovieID    label    similarity\n",
       "count  15407.000000  15407.0  15390.000000\n",
       "mean   21465.194911      1.0      0.455749\n",
       "std    12439.838487      0.0      0.144662\n",
       "min        1.000000      1.0     -0.020791\n",
       "25%    10691.500000      1.0      0.354748\n",
       "50%    21496.000000      1.0      0.439610\n",
       "75%    32062.000000      1.0      0.539630\n",
       "max    43046.000000      1.0      1.000000"
      ]
     },
     "execution_count": 37,
     "metadata": {},
     "output_type": "execute_result"
    }
   ],
   "source": [
    "new_df.loc[new_df.label==1].describe()"
   ]
  },
  {
   "cell_type": "code",
   "execution_count": 38,
   "metadata": {},
   "outputs": [
    {
     "data": {
      "text/html": [
       "<div>\n",
       "<style scoped>\n",
       "    .dataframe tbody tr th:only-of-type {\n",
       "        vertical-align: middle;\n",
       "    }\n",
       "\n",
       "    .dataframe tbody tr th {\n",
       "        vertical-align: top;\n",
       "    }\n",
       "\n",
       "    .dataframe thead th {\n",
       "        text-align: right;\n",
       "    }\n",
       "</style>\n",
       "<table border=\"1\" class=\"dataframe\">\n",
       "  <thead>\n",
       "    <tr style=\"text-align: right;\">\n",
       "      <th></th>\n",
       "      <th>MovieID</th>\n",
       "      <th>label</th>\n",
       "      <th>similarity</th>\n",
       "    </tr>\n",
       "  </thead>\n",
       "  <tbody>\n",
       "    <tr>\n",
       "      <th>count</th>\n",
       "      <td>79639.000000</td>\n",
       "      <td>79639.0</td>\n",
       "      <td>79518.000000</td>\n",
       "    </tr>\n",
       "    <tr>\n",
       "      <th>mean</th>\n",
       "      <td>21459.833787</td>\n",
       "      <td>0.0</td>\n",
       "      <td>0.463973</td>\n",
       "    </tr>\n",
       "    <tr>\n",
       "      <th>std</th>\n",
       "      <td>12453.379076</td>\n",
       "      <td>0.0</td>\n",
       "      <td>0.140624</td>\n",
       "    </tr>\n",
       "    <tr>\n",
       "      <th>min</th>\n",
       "      <td>1.000000</td>\n",
       "      <td>0.0</td>\n",
       "      <td>-0.069136</td>\n",
       "    </tr>\n",
       "    <tr>\n",
       "      <th>25%</th>\n",
       "      <td>10655.000000</td>\n",
       "      <td>0.0</td>\n",
       "      <td>0.364593</td>\n",
       "    </tr>\n",
       "    <tr>\n",
       "      <th>50%</th>\n",
       "      <td>21438.000000</td>\n",
       "      <td>0.0</td>\n",
       "      <td>0.450636</td>\n",
       "    </tr>\n",
       "    <tr>\n",
       "      <th>75%</th>\n",
       "      <td>32049.000000</td>\n",
       "      <td>0.0</td>\n",
       "      <td>0.550440</td>\n",
       "    </tr>\n",
       "    <tr>\n",
       "      <th>max</th>\n",
       "      <td>43046.000000</td>\n",
       "      <td>0.0</td>\n",
       "      <td>1.000000</td>\n",
       "    </tr>\n",
       "  </tbody>\n",
       "</table>\n",
       "</div>"
      ],
      "text/plain": [
       "            MovieID    label    similarity\n",
       "count  79639.000000  79639.0  79518.000000\n",
       "mean   21459.833787      0.0      0.463973\n",
       "std    12453.379076      0.0      0.140624\n",
       "min        1.000000      0.0     -0.069136\n",
       "25%    10655.000000      0.0      0.364593\n",
       "50%    21438.000000      0.0      0.450636\n",
       "75%    32049.000000      0.0      0.550440\n",
       "max    43046.000000      0.0      1.000000"
      ]
     },
     "execution_count": 38,
     "metadata": {},
     "output_type": "execute_result"
    }
   ],
   "source": [
    "new_df.loc[new_df.label==0].describe()"
   ]
  },
  {
   "cell_type": "code",
   "execution_count": 39,
   "metadata": {},
   "outputs": [],
   "source": [
    "new_df.to_csv('TextSimilarity.csv',index=False)"
   ]
  },
  {
   "cell_type": "code",
   "execution_count": 40,
   "metadata": {},
   "outputs": [
    {
     "data": {
      "text/plain": [
       "0.8378995433789954"
      ]
     },
     "execution_count": 40,
     "metadata": {},
     "output_type": "execute_result"
    }
   ],
   "source": [
    "1-new_df.label.sum()/len(new_df)"
   ]
  },
  {
   "cell_type": "code",
   "execution_count": 41,
   "metadata": {
    "scrolled": true
   },
   "outputs": [],
   "source": [
    "scores = new_df.loc[~new_df.similarity.isnull()].similarity.get_values()\n",
    "labels = new_df.loc[~new_df.similarity.isnull()].label.get_values()\n",
    "smooth_score = smooth(scores)"
   ]
  },
  {
   "cell_type": "code",
   "execution_count": 42,
   "metadata": {},
   "outputs": [
    {
     "data": {
      "text/plain": [
       "[<matplotlib.lines.Line2D at 0x1a21ac92b0>]"
      ]
     },
     "execution_count": 42,
     "metadata": {},
     "output_type": "execute_result"
    },
    {
     "data": {
      "image/png": "[encoded data removed]",
      "text/plain": [
       "<Figure size 432x288 with 1 Axes>"
      ]
     },
     "metadata": {
      "needs_background": "light"
     },
     "output_type": "display_data"
    }
   ],
   "source": [
    "plt.plot(smooth(scores)[:50],c='r')\n",
    "plt.plot(scores[:50],c='g')"
   ]
  },
  {
   "cell_type": "code",
   "execution_count": 48,
   "metadata": {},
   "outputs": [],
   "source": [
    "block_size = 5\n",
    "depth_scores = []\n",
    "for i in range(block_size,len(smooth_score)-block_size):\n",
    "    lpeak = max(scores[i-block_size:i])\n",
    "    rpeak = max(scores[i+1:i+block_size+1])\n",
    "    depth_scores.append(lpeak+rpeak-2*scores[i])\n",
    "depth_scores = np.array(depth_scores)"
   ]
  },
  {
   "cell_type": "code",
   "execution_count": 49,
   "metadata": {
    "scrolled": false
   },
   "outputs": [
    {
     "data": {
      "text/plain": [
       "<matplotlib.legend.Legend at 0x1a21afccf8>"
      ]
     },
     "execution_count": 49,
     "metadata": {},
     "output_type": "execute_result"
    },
    {
     "data": {
      "image/png": "[encoded data removed]",
      "text/plain": [
       "<Figure size 720x432 with 1 Axes>"
      ]
     },
     "metadata": {
      "needs_background": "light"
     },
     "output_type": "display_data"
    }
   ],
   "source": [
    "plt.figure(figsize=(10,6))\n",
    "for i in np.where(labels[10:50])[0]:\n",
    "    plt.axvline(i,c='r')\n",
    "plt.plot(depth_scores[:50],label='Depth score')\n",
    "plt.plot(smooth_score[10:60],label='smooth score')\n",
    "plt.legend()"
   ]
  },
  {
   "cell_type": "code",
   "execution_count": 50,
   "metadata": {},
   "outputs": [
    {
     "name": "stdout",
     "output_type": "stream",
     "text": [
      "0.3401610764795546 0.3245246884296022\n"
     ]
    }
   ],
   "source": [
    "# miu = new_df.similarity.mean()\n",
    "# std = new_df.similarity.std()\n",
    "mean_ = np.mean(depth_scores)\n",
    "std_ = np.std(depth_scores)\n",
    "print(mean_,std_)"
   ]
  },
  {
   "cell_type": "code",
   "execution_count": 51,
   "metadata": {},
   "outputs": [
    {
     "name": "stdout",
     "output_type": "stream",
     "text": [
      "0.3507979999178254 0.32860664858809624\n"
     ]
    }
   ],
   "source": [
    "idx = np.where(labels[block_size:-block_size]==1)[0]\n",
    "print(np.mean(depth_scores[idx]),np.std(depth_scores[idx]))"
   ]
  },
  {
   "cell_type": "code",
   "execution_count": 52,
   "metadata": {},
   "outputs": [
    {
     "name": "stdout",
     "output_type": "stream",
     "text": [
      "0.338102614871165 0.3236884369468224\n"
     ]
    }
   ],
   "source": [
    "idx = np.where(labels[block_size:-block_size]==0)[0]\n",
    "print(np.mean(depth_scores[idx]),np.std(depth_scores[idx]))"
   ]
  },
  {
   "cell_type": "code",
   "execution_count": 53,
   "metadata": {
    "scrolled": false
   },
   "outputs": [
    {
     "name": "stdout",
     "output_type": "stream",
     "text": [
      "alpha:-1.000,threshold:0.016,accuracy:0.732,precision:0.156,recall:0.148\n",
      "alpha:-0.950,threshold:0.032,accuracy:0.723,precision:0.154,recall:0.158\n",
      "alpha:-0.900,threshold:0.048,accuracy:0.715,precision:0.154,recall:0.169\n",
      "alpha:-0.850,threshold:0.064,accuracy:0.707,precision:0.154,recall:0.180\n",
      "alpha:-0.800,threshold:0.081,accuracy:0.698,precision:0.155,recall:0.194\n",
      "alpha:-0.750,threshold:0.097,accuracy:0.688,precision:0.154,recall:0.206\n",
      "alpha:-0.700,threshold:0.113,accuracy:0.678,precision:0.154,recall:0.218\n",
      "alpha:-0.650,threshold:0.129,accuracy:0.668,precision:0.152,recall:0.230\n",
      "alpha:-0.600,threshold:0.145,accuracy:0.657,precision:0.153,recall:0.246\n",
      "alpha:-0.550,threshold:0.162,accuracy:0.646,precision:0.153,recall:0.262\n",
      "alpha:-0.500,threshold:0.178,accuracy:0.635,precision:0.153,recall:0.278\n",
      "alpha:-0.450,threshold:0.194,accuracy:0.624,precision:0.154,recall:0.294\n",
      "alpha:-0.400,threshold:0.210,accuracy:0.611,precision:0.154,recall:0.312\n",
      "alpha:-0.350,threshold:0.227,accuracy:0.598,precision:0.155,recall:0.332\n",
      "alpha:-0.300,threshold:0.243,accuracy:0.586,precision:0.155,recall:0.350\n",
      "alpha:-0.250,threshold:0.259,accuracy:0.573,precision:0.155,recall:0.369\n",
      "alpha:-0.200,threshold:0.275,accuracy:0.559,precision:0.155,recall:0.387\n",
      "alpha:-0.150,threshold:0.291,accuracy:0.545,precision:0.154,recall:0.404\n",
      "alpha:-0.100,threshold:0.308,accuracy:0.531,precision:0.155,recall:0.423\n",
      "alpha:-0.050,threshold:0.324,accuracy:0.518,precision:0.155,recall:0.444\n",
      "alpha:0.000,threshold:0.340,accuracy:0.505,precision:0.156,recall:0.465\n",
      "alpha:0.050,threshold:0.356,accuracy:0.491,precision:0.156,recall:0.485\n",
      "alpha:0.100,threshold:0.373,accuracy:0.477,precision:0.156,recall:0.505\n",
      "alpha:0.150,threshold:0.389,accuracy:0.464,precision:0.157,recall:0.526\n",
      "alpha:0.200,threshold:0.405,accuracy:0.450,precision:0.157,recall:0.548\n",
      "alpha:0.250,threshold:0.421,accuracy:0.435,precision:0.157,recall:0.567\n",
      "alpha:0.300,threshold:0.438,accuracy:0.421,precision:0.157,recall:0.586\n",
      "alpha:0.350,threshold:0.454,accuracy:0.407,precision:0.157,recall:0.608\n",
      "alpha:0.400,threshold:0.470,accuracy:0.394,precision:0.157,recall:0.628\n",
      "alpha:0.450,threshold:0.486,accuracy:0.380,precision:0.157,recall:0.647\n",
      "alpha:0.500,threshold:0.502,accuracy:0.367,precision:0.158,recall:0.668\n",
      "alpha:0.550,threshold:0.519,accuracy:0.355,precision:0.158,recall:0.688\n",
      "alpha:0.600,threshold:0.535,accuracy:0.342,precision:0.158,recall:0.707\n",
      "alpha:0.650,threshold:0.551,accuracy:0.331,precision:0.159,recall:0.726\n",
      "alpha:0.700,threshold:0.567,accuracy:0.320,precision:0.159,recall:0.744\n",
      "alpha:0.750,threshold:0.584,accuracy:0.309,precision:0.159,recall:0.762\n",
      "alpha:0.800,threshold:0.600,accuracy:0.299,precision:0.159,recall:0.778\n",
      "alpha:0.850,threshold:0.616,accuracy:0.289,precision:0.160,recall:0.795\n",
      "alpha:0.900,threshold:0.632,accuracy:0.279,precision:0.160,recall:0.808\n",
      "alpha:0.950,threshold:0.648,accuracy:0.270,precision:0.160,recall:0.824\n"
     ]
    }
   ],
   "source": [
    "alphas = np.arange(-1,1,0.05)\n",
    "for alpha in alphas:\n",
    "    th = mean_ + alpha*std_\n",
    "    pred = (depth_scores<th).astype(int)\n",
    "    idx = np.where(labels[block_size:-block_size]==1)[0]\n",
    "    acc = sum(pred==labels[block_size:-block_size])/len(pred)\n",
    "    p = sum(pred[idx])/sum(pred)\n",
    "    r = sum(pred[idx])/sum(labels[block_size:-block_size])\n",
    "    print('alpha:{:.3f},threshold:{:.3f},accuracy:{:.3f},precision:{:.3f},recall:{:.3f}'.format(alpha,th,acc,p,r))"
   ]
  },
  {
   "cell_type": "code",
   "execution_count": 234,
   "metadata": {},
   "outputs": [
    {
     "data": {
      "text/html": [
       "<div>\n",
       "<style scoped>\n",
       "    .dataframe tbody tr th:only-of-type {\n",
       "        vertical-align: middle;\n",
       "    }\n",
       "\n",
       "    .dataframe tbody tr th {\n",
       "        vertical-align: top;\n",
       "    }\n",
       "\n",
       "    .dataframe thead th {\n",
       "        text-align: right;\n",
       "    }\n",
       "</style>\n",
       "<table border=\"1\" class=\"dataframe\">\n",
       "  <thead>\n",
       "    <tr style=\"text-align: right;\">\n",
       "      <th></th>\n",
       "      <th>ID1</th>\n",
       "      <th>ID2</th>\n",
       "      <th>MovieID</th>\n",
       "      <th>LineIDs</th>\n",
       "      <th>Turn</th>\n",
       "      <th>startID</th>\n",
       "      <th>label</th>\n",
       "      <th>s_cnt</th>\n",
       "    </tr>\n",
       "  </thead>\n",
       "  <tbody>\n",
       "    <tr>\n",
       "      <th>0</th>\n",
       "      <td>u0</td>\n",
       "      <td>u3</td>\n",
       "      <td>m0</td>\n",
       "      <td>L49, L50, L51</td>\n",
       "      <td>3</td>\n",
       "      <td>49</td>\n",
       "      <td>1</td>\n",
       "      <td>0</td>\n",
       "    </tr>\n",
       "    <tr>\n",
       "      <th>1</th>\n",
       "      <td>u8</td>\n",
       "      <td>u9</td>\n",
       "      <td>m0</td>\n",
       "      <td>L59, L60, L61, L62</td>\n",
       "      <td>4</td>\n",
       "      <td>59</td>\n",
       "      <td>1</td>\n",
       "      <td>1</td>\n",
       "    </tr>\n",
       "    <tr>\n",
       "      <th>2</th>\n",
       "      <td>u2</td>\n",
       "      <td>u7</td>\n",
       "      <td>m0</td>\n",
       "      <td>L63, L64, L65</td>\n",
       "      <td>3</td>\n",
       "      <td>63</td>\n",
       "      <td>1</td>\n",
       "      <td>2</td>\n",
       "    </tr>\n",
       "    <tr>\n",
       "      <th>3</th>\n",
       "      <td>u2</td>\n",
       "      <td>u7</td>\n",
       "      <td>m0</td>\n",
       "      <td>L66, L67, L68, L69, L70, L71, L72, L73, L74</td>\n",
       "      <td>9</td>\n",
       "      <td>66</td>\n",
       "      <td>0</td>\n",
       "      <td>2</td>\n",
       "    </tr>\n",
       "    <tr>\n",
       "      <th>4</th>\n",
       "      <td>u2</td>\n",
       "      <td>u7</td>\n",
       "      <td>m0</td>\n",
       "      <td>L77, L78</td>\n",
       "      <td>2</td>\n",
       "      <td>77</td>\n",
       "      <td>0</td>\n",
       "      <td>2</td>\n",
       "    </tr>\n",
       "  </tbody>\n",
       "</table>\n",
       "</div>"
      ],
      "text/plain": [
       "  ID1 ID2 MovieID                                      LineIDs  Turn  startID  \\\n",
       "0  u0  u3      m0                                L49, L50, L51     3       49   \n",
       "1  u8  u9      m0                           L59, L60, L61, L62     4       59   \n",
       "2  u2  u7      m0                                L63, L64, L65     3       63   \n",
       "3  u2  u7      m0  L66, L67, L68, L69, L70, L71, L72, L73, L74     9       66   \n",
       "4  u2  u7      m0                                     L77, L78     2       77   \n",
       "\n",
       "   label  s_cnt  \n",
       "0      1      0  \n",
       "1      1      1  \n",
       "2      1      2  \n",
       "3      0      2  \n",
       "4      0      2  "
      ]
     },
     "execution_count": 234,
     "metadata": {},
     "output_type": "execute_result"
    }
   ],
   "source": [
    "conversations.head()"
   ]
  },
  {
   "cell_type": "code",
   "execution_count": 238,
   "metadata": {},
   "outputs": [],
   "source": [
    "# save cornell corpus line by line in .txt\n",
    "# for movie in conversations.MovieID.unique():\n",
    "#     tmp_df = conversations.loc[conversations.MovieID==movie].copy()\n",
    "#     tmp_df = pd.DataFrame(tmp_df.LineIDs.str.split(', ').tolist(),index=tmp_df.MovieID).stack()\n",
    "#     tmp_df = tmp_df.reset_index()\n",
    "#     tmp_df.columns = ['MovieID','label','LineIDs']\n",
    "#     for i in range(len(tmp_df)):\n",
    "#         s = movie_lines[tmp_df.LineIDs.loc[i]]['Line']\n",
    "#         with open('./data/cornell/%s.txt'%movie, 'a') as f:\n",
    "#             f.write(' '.join(s)+'\\n')"
   ]
  },
  {
   "cell_type": "code",
   "execution_count": null,
   "metadata": {},
   "outputs": [],
   "source": []
  },
  {
   "cell_type": "code",
   "execution_count": null,
   "metadata": {},
   "outputs": [],
   "source": []
  },
  {
   "cell_type": "code",
   "execution_count": null,
   "metadata": {},
   "outputs": [],
   "source": []
  },
  {
   "cell_type": "code",
   "execution_count": null,
   "metadata": {},
   "outputs": [],
   "source": []
  },
  {
   "cell_type": "code",
   "execution_count": null,
   "metadata": {},
   "outputs": [],
   "source": []
  },
  {
   "cell_type": "code",
   "execution_count": null,
   "metadata": {},
   "outputs": [],
   "source": []
  },
  {
   "cell_type": "markdown",
   "metadata": {},
   "source": [
    "---\n",
    "improve our own model using google-news\n",
    "\n",
    "https://stackoverflow.com/questions/35117491/is-it-possible-to-re-train-a-word2vec-model-e-g-googlenews-vectors-negative300"
   ]
  },
  {
   "cell_type": "code",
   "execution_count": 239,
   "metadata": {},
   "outputs": [],
   "source": [
    "# train word2vec model from files sentence by sentence\n",
    "class MySentences(object):\n",
    "    def __init__(self, dirname):\n",
    "        self.dirname = dirname\n",
    " \n",
    "    def __iter__(self):\n",
    "        for fname in os.listdir(self.dirname):\n",
    "            tmp = []\n",
    "            for line in open(os.path.join(self.dirname, fname)):\n",
    "                yield tmp+line.split()\n",
    "                tmp = line.split()\n",
    "                \n",
    "sentences = MySentences('./data/cornell/') # a memory-friendly iterator"
   ]
  },
  {
   "cell_type": "code",
   "execution_count": 417,
   "metadata": {},
   "outputs": [],
   "source": [
    "model2 = gensim.models.Word2Vec(iter=1,size=300)  # an empty model, no training yet\n",
    "model2.build_vocab(sentences)  # can be a non-repeatable, 1-pass generator"
   ]
  },
  {
   "cell_type": "code",
   "execution_count": 418,
   "metadata": {},
   "outputs": [],
   "source": [
    "model2.intersect_word2vec_format('GoogleNews-vectors-negative300.bin.gz',\n",
    "                                lockf=1.0, # allow further training updates of merged vectors\n",
    "                                binary=True)"
   ]
  },
  {
   "cell_type": "code",
   "execution_count": 421,
   "metadata": {
    "scrolled": true
   },
   "outputs": [
    {
     "data": {
      "text/plain": [
       "(2350571, 3411727)"
      ]
     },
     "execution_count": 421,
     "metadata": {},
     "output_type": "execute_result"
    }
   ],
   "source": [
    "model2.train(sentences,total_examples=model2.corpus_count,epochs=model2.epochs)"
   ]
  },
  {
   "cell_type": "code",
   "execution_count": 440,
   "metadata": {},
   "outputs": [],
   "source": [
    "model2.save('./word2vec/model_inter')\n",
    "# model2 = gensim.models.Word2Vec.load('./word2vec/model_inter')"
   ]
  },
  {
   "cell_type": "code",
   "execution_count": 429,
   "metadata": {
    "scrolled": true
   },
   "outputs": [
    {
     "data": {
      "text/plain": [
       "(2350577, 3411727)"
      ]
     },
     "execution_count": 429,
     "metadata": {},
     "output_type": "execute_result"
    }
   ],
   "source": [
    "model3 = gensim.models.Word2Vec(iter=1,size=300)  # an empty model, no training yet\n",
    "model3.build_vocab(sentences)  # can be a non-repeatable, 1-pass generator\n",
    "model3.train(sentences,total_examples=model2.corpus_count,epochs=model2.epochs)"
   ]
  },
  {
   "cell_type": "code",
   "execution_count": 243,
   "metadata": {
    "scrolled": true
   },
   "outputs": [
    {
     "data": {
      "text/plain": [
       "(5555054, 8351942)"
      ]
     },
     "execution_count": 243,
     "metadata": {},
     "output_type": "execute_result"
    }
   ],
   "source": [
    "sentences = MySentences('./data/cornell/') # a memory-friendly iterator\n",
    "model4 = gensim.models.Word2Vec(iter=1,size=300)  # an empty model, no training yet\n",
    "model4.build_vocab(sentences)  # can be a non-repeatable, 1-pass generator\n",
    "\n",
    "model4.intersect_word2vec_format('GoogleNews-vectors-negative300.bin.gz',\n",
    "                                lockf=1.0, # allow further training updates of merged vectors\n",
    "                                binary=True)\n",
    "\n",
    "model4.train(sentences,total_examples=model4.corpus_count,epochs=model4.epochs)"
   ]
  },
  {
   "cell_type": "code",
   "execution_count": 244,
   "metadata": {},
   "outputs": [
    {
     "data": {
      "text/plain": [
       "304713"
      ]
     },
     "execution_count": 244,
     "metadata": {},
     "output_type": "execute_result"
    }
   ],
   "source": [
    "model4.corpus_count"
   ]
  },
  {
   "cell_type": "code",
   "execution_count": 264,
   "metadata": {},
   "outputs": [],
   "source": [
    "# model4.save('./word2vec/model_inter_virtual')"
   ]
  },
  {
   "cell_type": "code",
   "execution_count": 422,
   "metadata": {},
   "outputs": [
    {
     "data": {
      "text/plain": [
       "0.4866452813088104"
      ]
     },
     "execution_count": 422,
     "metadata": {},
     "output_type": "execute_result"
    }
   ],
   "source": [
    "model2.wv.similarity('is','are')"
   ]
  },
  {
   "cell_type": "code",
   "execution_count": 426,
   "metadata": {
    "scrolled": true
   },
   "outputs": [
    {
     "data": {
      "text/plain": [
       "0.7651290159166821"
      ]
     },
     "execution_count": 426,
     "metadata": {},
     "output_type": "execute_result"
    }
   ],
   "source": [
    "model2.wv.similarity('cat','dog')"
   ]
  },
  {
   "cell_type": "code",
   "execution_count": 435,
   "metadata": {},
   "outputs": [
    {
     "data": {
      "text/plain": [
       "[('cats', 0.7892244458198547),\n",
       " ('dog', 0.7651289701461792),\n",
       " ('kitten', 0.756538987159729),\n",
       " ('puppy', 0.7189644575119019),\n",
       " ('pup', 0.701250433921814),\n",
       " ('pet', 0.7005758285522461),\n",
       " ('rabbit', 0.6838946342468262),\n",
       " ('pooch', 0.6688399314880371),\n",
       " ('dogs', 0.6632210612297058),\n",
       " ('poodle', 0.6489315629005432)]"
      ]
     },
     "execution_count": 435,
     "metadata": {},
     "output_type": "execute_result"
    }
   ],
   "source": [
    "model2.wv.similar_by_word('cat')"
   ]
  },
  {
   "cell_type": "code",
   "execution_count": 430,
   "metadata": {},
   "outputs": [
    {
     "data": {
      "text/plain": [
       "0.9353906436740264"
      ]
     },
     "execution_count": 430,
     "metadata": {},
     "output_type": "execute_result"
    }
   ],
   "source": [
    "model3.wv.similarity('cat','dog')"
   ]
  },
  {
   "cell_type": "code",
   "execution_count": 431,
   "metadata": {},
   "outputs": [
    {
     "data": {
      "text/plain": [
       "0.5648897102859702"
      ]
     },
     "execution_count": 431,
     "metadata": {},
     "output_type": "execute_result"
    }
   ],
   "source": [
    "model3.wv.similarity('is','are')"
   ]
  },
  {
   "cell_type": "code",
   "execution_count": 434,
   "metadata": {},
   "outputs": [
    {
     "data": {
      "text/plain": [
       "[('letter', 0.9836823344230652),\n",
       " ('pilot', 0.9833642840385437),\n",
       " ('machine', 0.9797714948654175),\n",
       " ('card', 0.9794377088546753),\n",
       " ('hair', 0.976094126701355),\n",
       " ('camera', 0.9758375287055969),\n",
       " ('wedding', 0.9751882553100586),\n",
       " ('ring', 0.9746631383895874),\n",
       " ('divorce', 0.9745532274246216),\n",
       " ('prom', 0.9743425250053406)]"
      ]
     },
     "execution_count": 434,
     "metadata": {},
     "output_type": "execute_result"
    }
   ],
   "source": [
    "model3.wv.similar_by_word('cat')"
   ]
  },
  {
   "cell_type": "code",
   "execution_count": 15,
   "metadata": {},
   "outputs": [
    {
     "data": {
      "text/plain": [
       "[('kitten', 0.7502208948135376),\n",
       " ('dog', 0.7263214588165283),\n",
       " ('cats', 0.7166353464126587),\n",
       " ('feline', 0.6899605989456177),\n",
       " ('puppy', 0.6886088252067566),\n",
       " ('pup', 0.6836971640586853),\n",
       " ('pet', 0.6617459058761597),\n",
       " ('pooch', 0.648727297782898),\n",
       " ('poodle', 0.6431140303611755),\n",
       " ('rabbit', 0.6428321003913879)]"
      ]
     },
     "execution_count": 15,
     "metadata": {},
     "output_type": "execute_result"
    }
   ],
   "source": [
    "model4.wv.similar_by_word('cat')"
   ]
  },
  {
   "cell_type": "code",
   "execution_count": 259,
   "metadata": {},
   "outputs": [],
   "source": [
    "word_pair = ['.','you']"
   ]
  },
  {
   "cell_type": "code",
   "execution_count": null,
   "metadata": {},
   "outputs": [],
   "source": []
  },
  {
   "cell_type": "code",
   "execution_count": 475,
   "metadata": {},
   "outputs": [
    {
     "data": {
      "text/plain": [
       "0.12504148369861123"
      ]
     },
     "execution_count": 475,
     "metadata": {},
     "output_type": "execute_result"
    }
   ],
   "source": [
    "# original google news\n",
    "model1.similarity(word_pair[0],word_pair[1])"
   ]
  },
  {
   "cell_type": "code",
   "execution_count": 476,
   "metadata": {},
   "outputs": [
    {
     "data": {
      "text/plain": [
       "0.19337400157250462"
      ]
     },
     "execution_count": 476,
     "metadata": {},
     "output_type": "execute_result"
    }
   ],
   "source": [
    "# google news + cornell corpus\n",
    "model2.wv.similarity(word_pair[0],word_pair[1])"
   ]
  },
  {
   "cell_type": "code",
   "execution_count": 477,
   "metadata": {},
   "outputs": [
    {
     "data": {
      "text/plain": [
       "0.4107629849182791"
      ]
     },
     "execution_count": 477,
     "metadata": {},
     "output_type": "execute_result"
    }
   ],
   "source": [
    "# cornell corpus\n",
    "model3.wv.similarity(word_pair[0],word_pair[1])"
   ]
  },
  {
   "cell_type": "code",
   "execution_count": 14,
   "metadata": {},
   "outputs": [
    {
     "data": {
      "text/plain": [
       "0.44963058466800676"
      ]
     },
     "execution_count": 14,
     "metadata": {},
     "output_type": "execute_result"
    }
   ],
   "source": [
    "# google news + cornell corpus + virtual sentence\n",
    "model4.wv.similarity('him','he')"
   ]
  },
  {
   "cell_type": "code",
   "execution_count": null,
   "metadata": {},
   "outputs": [],
   "source": []
  }
 ],
 "metadata": {
  "kernelspec": {
   "display_name": "Python (semester)",
   "language": "python",
   "name": "semester"
  },
  "language_info": {
   "codemirror_mode": {
    "name": "ipython",
    "version": 3
   },
   "file_extension": ".py",
   "mimetype": "text/x-python",
   "name": "python",
   "nbconvert_exporter": "python",
   "pygments_lexer": "ipython3",
   "version": "3.6.8"
  }
 },
 "nbformat": 4,
 "nbformat_minor": 2
}
