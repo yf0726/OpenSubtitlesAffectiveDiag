{
 "cells": [
  {
   "cell_type": "markdown",
   "metadata": {},
   "source": [
    "## Parse the .xml document from OpenSubtitle\n",
    "This notebook is used for parsing OpenSubtitles 2018."
   ]
  },
  {
   "cell_type": "markdown",
   "metadata": {},
   "source": [
    "1. We have 446612 subtitles in .xml files in total; and approximately 90% of them are in duration between half an hour and three hours. Too short files may be trailer or song lyrics (eg. 666); too long files may be lectures.\n",
    "2. The subtitles are parsed in such format:\n",
    "\n",
    "\n",
    "    `<s id = 'NUM'>`: In each `<s>` tag it should mean a sentence by certain character.\n",
    "\n",
    "    `<time id=\"T1S\" value=\"00:00:00,668\" /> <time id=\"T1E\" value=\"00:00:02,918\" />`: In each `<time>` tag it should mean subtitles shown in one screen.\n",
    "\n",
    "    Genereally: \n",
    "    In each `<s>` tag there is one pair of `<time>` tag;\n",
    "    In one `<s>` tag if there are more than one pairs of `<time>` tag, it means the sentence by one character is too long and is separeted to put into several screens;\n",
    "    In one `<time>` tag if there are more than one `<s>` tags, it means different senetences by more than one characters are put in one screen. And these sentences often begin with symbol '-'.\n",
    "\n",
    "\n",
    "Pre-processing include:\n",
    "1. Download tokenized English subtitles from http://opus.nlpl.eu/OpenSubtitles2018.php;\n",
    "2. Clean the data: replace \\\", \\` with \\'; replace n \\'t with n\\'t; replace in \\' with ing; replace ing \\' with ing;\n",
    "3. Select movies with duration between 0.5 - 3 hours;\n",
    "4. Find sentences in each `<s>` tag (concatenate sentences if in several `<s>` tags; split sentence with '- ')(setences ending with ',' with be considered as part of next sentence. \n",
    "5. Expansion, delete brackets and special symbols, replace numbers with NUM, delete non-dialog (eg. 'Season 1 Episode 1', add <EOS\\>;\n",
    "6. Save the timestamp in seconds.\n"
   ]
  },
  {
   "cell_type": "code",
   "execution_count": 1,
   "metadata": {},
   "outputs": [],
   "source": [
    "import xml.etree.ElementTree as ET\n",
    "import operator\n",
    "import os,re\n",
    "from datetime import timedelta\n",
    "import linecache"
   ]
  },
  {
   "cell_type": "code",
   "execution_count": 2,
   "metadata": {
    "scrolled": true
   },
   "outputs": [],
   "source": [
    "def time2sec(string):\n",
    "    \"\"\" This function is used for converting string of time stamp in subtitle into seconds.\"\"\"\n",
    "    string = string.replace(' ','')\n",
    "    d = list(map(float,re.split('\\.|,|;|:',string)))\n",
    "    if len(d) > 3: # the format of time stamp is not unified, some of them have milli-second\n",
    "        t = timedelta(hours = d[0],minutes = d[1],seconds = d[2]+d[3]/1000)\n",
    "    else:\n",
    "        t = timedelta(hours = d[0],minutes = d[1],seconds = d[2])\n",
    "    return(t.total_seconds())"
   ]
  },
  {
   "cell_type": "code",
   "execution_count": 3,
   "metadata": {},
   "outputs": [],
   "source": [
    "def multiple_replace(dict_, text):\n",
    "    \"\"\"Replace text with multi-words in a dictionary.\"\"\"\n",
    "    # Create a regular expression  from the dictionary keys\n",
    "    regex = re.compile(\"(%s)\" % \"|\".join(map(re.escape, dict_.keys())))\n",
    "    # For each match, look-up corresponding value in dictionary\n",
    "    return regex.sub(lambda mo: dict_[mo.string[mo.start():mo.end()]], text) \n",
    "\n",
    "dict_sub = {'\\\"':'\\'','´':'\\'',\n",
    "            'n \\'t':' n\\'t', 'in \\'':'ing', 'ing \\'':'ing'}"
   ]
  },
  {
   "cell_type": "code",
   "execution_count": 4,
   "metadata": {},
   "outputs": [],
   "source": [
    "def OpenSubtitleSentence(file_path,dict_=dict_sub):\n",
    "    # import data\n",
    "    tree = ET.parse(file_path)\n",
    "    root = tree.getroot()\n",
    "    time_list = []\n",
    "    s_list = []\n",
    "    s_tmp = ''\n",
    "    flag_s = 0\n",
    "    flag_e = 0\n",
    "    flag_m = 0\n",
    "    \n",
    "    # get duration of input document\n",
    "    for sub in root.iter('subtitle'):\n",
    "        for duration in sub.iter('duration'):\n",
    "            duration_time = time2sec(duration.text.split(',')[0])    \n",
    "    # if the duration is too short or too long we ignore this document\n",
    "    if (duration_time < 3600*0.5) | (duration_time > 3600*3):\n",
    "        return [],[]\n",
    "        \n",
    "    for child in root:\n",
    "        if child.tag != 's':\n",
    "            continue\n",
    "    \n",
    "        # get the list of start and end time of each sentence\n",
    "        # if a movie is in 'E-S' pattern in the whole dialog then time_list = []\n",
    "        time_tmp = []\n",
    "        for time in child.iter(tag='time'):\n",
    "            # time_tmp.append(time.attrib['value'])\n",
    "            time_tmp.extend([time.attrib['id'],time.attrib['value']])\n",
    "        \n",
    "        if not time_tmp:\n",
    "            flag_m = 1\n",
    "        elif (time_tmp[0].endswith('S')) & (time_tmp[-2].endswith('E')):\n",
    "            time_list.extend([time_tmp[1],time_tmp[-1]])\n",
    "        elif (time_tmp[0].endswith('E')) & (time_tmp[-2].endswith('S')):\n",
    "            flag_m = 1\n",
    "        elif (time_tmp[0].endswith('S')) & (time_tmp[-2].endswith('S')):\n",
    "            time_list.extend([time_tmp[1]])\n",
    "            flag_s = 1\n",
    "        elif (time_tmp[0].endswith('E')) & (time_tmp[-2].endswith('E')):\n",
    "            time_list.extend([time_tmp[-1]])\n",
    "            flag_e = 1\n",
    "        \n",
    "        s = [] # sentence in this loop\n",
    "        if child.itertext(): # sentence in each s tag\n",
    "            s.append(''.join(child.itertext()))\n",
    "        s = ' '.join(s[0].split())\n",
    "        a = s\n",
    "\n",
    "        if flag_s:\n",
    "            s_tmp = a\n",
    "            flag_s = 0\n",
    "            continue\n",
    "        \n",
    "        if flag_m:\n",
    "            try:\n",
    "                s_tmp = s_tmp +' ' + a\n",
    "            except:\n",
    "                print(child.attrib)\n",
    "            flag_m = 0\n",
    "            continue\n",
    "            \n",
    "        if flag_e:\n",
    "            a = s_tmp + ' ' + a\n",
    "            flag_e = 0\n",
    "            s_tmp = ''\n",
    "        \n",
    "        a = multiple_replace(dict_, a)\n",
    "        a = multiple_replace(dict_, a)\n",
    "        a = a.replace('\\\\','')\n",
    "        a = re.sub('ca n\\'t','can n\\'t',a)\n",
    "        a = re.sub('Ca n\\'t','Can n\\'t',a)\n",
    "        \n",
    "        # remove brackets and contents in the brackets/special symbols\n",
    "        a = re.sub(u\"\\\\(.*?\\\\)|\\\\{.*?}|\\\\[.*?]|\\\\♪.*?♪|\\\\#.*?#|\\\\=.*?=|\\\\¶.*?¶\", \"\", a)\n",
    "        a = re.sub('[0-9]+', '<NUM>', a) # replace specific number with NUM\n",
    "        # a = a.replace('-','')\n",
    "        a = a.lstrip().rstrip()# remove spaces before or after sentence\n",
    "            \n",
    "        if (not len(a)) | (any(re.findall(r' Season.*?Episode |Subtitles|Subtitle | Episode ',a, re.IGNORECASE))) |(not (any(re.findall(r'\\.|,|\\?|!|\\'|\\\"',a)))): \n",
    "            # skip null sentence; delete  '- Season x Episode x -' or 'Subtitles by' lines;\n",
    "            # delete non-dialog sentences, eg. titles of episode\n",
    "            del time_list[-2:]\n",
    "            continue\n",
    "            \n",
    "        s_list.append(a)\n",
    "    # convert to seconds\n",
    "    time_second = []\n",
    "    for time in time_list:\n",
    "        # print(child.attrib,time)\n",
    "        time_second.append(time2sec(time))\n",
    "    time = time_second[::2]\n",
    "    \n",
    "#     time_diff = list(map(operator.sub,time_second[::2][1:],time_second[1::2][:-1]))\n",
    "    \n",
    "    return s_list,time"
   ]
  },
  {
   "cell_type": "code",
   "execution_count": 5,
   "metadata": {},
   "outputs": [],
   "source": [
    "def SaveSentence(save_path,s_,time_):\n",
    "    n = 1\n",
    "    new_path = save_path\n",
    "    while os.path.exists(new_path):\n",
    "        new_path = save_path.split('.')[0]+'_'+str(n)+'.txt'\n",
    "        n +=1\n",
    "    \n",
    "    f = open(new_path,'a')\n",
    "    for i in range(len(s_)):\n",
    "        # to find if short dialogue in one sentence, beginning with '- '\n",
    "        tmp_sentence = list(filter(None,s_[i].split('- '))) \n",
    "        tmp_time = str(time_[i])\n",
    "        for s in tmp_sentence:\n",
    "            a = tmp_time + '|' + '<GO>' + s + '<EOS>\\n'\n",
    "            f.write(a)\n",
    "    return"
   ]
  },
  {
   "cell_type": "code",
   "execution_count": 6,
   "metadata": {},
   "outputs": [
    {
     "name": "stdout",
     "output_type": "stream",
     "text": [
      "446612\n"
     ]
    }
   ],
   "source": [
    "# count the total number of subtitles\n",
    "file_count=0\n",
    "folder_path = \"/Volumes/Files/en/OpenSubtitles/\"\n",
    "\n",
    "# for dirpath, dirnames, filenames in os.walk('/Volumes/Files/en/OpenSubtitles/xml/en/'):\n",
    "#     for file in filenames:\n",
    "#         tmp_path = os.path.join(dirpath,file)\n",
    "#         f = open(folder_path+'AllFilePath.txt','a')\n",
    "#         f.write(tmp_path)\n",
    "#         f.write('\\n')\n",
    "#         file_count=file_count+1\n",
    "file_count = 446612\n",
    "print(file_count)\n",
    "# file_count = 446612"
   ]
  },
  {
   "cell_type": "code",
   "execution_count": null,
   "metadata": {},
   "outputs": [],
   "source": []
  },
  {
   "cell_type": "code",
   "execution_count": 7,
   "metadata": {
    "scrolled": true
   },
   "outputs": [
    {
     "name": "stdout",
     "output_type": "stream",
     "text": [
      "Stopped.\n"
     ]
    }
   ],
   "source": [
    "# the root data folder \n",
    "#g = os.walk(\"/Volumes/Files/en/OpenSubtitles/xml/en/\")\n",
    "source_dir = os.walk('/Users/yan/Documents/document/EPFL/MA2/semesterprj/datasets/OpenSubtitle/')\n",
    "save_dir = '/Users/yan/Documents/document/EPFL/MA2/semesterprj/code/processed_data/OpenSubtitle/'\n",
    "i = 0\n",
    "# looping over all .xml files in that folder\n",
    "try:\n",
    "    for path,dir_list,file_list in source_dir:\n",
    "        for file_name in file_list:\n",
    "            if file_name.endswith(\".xml\"): \n",
    "                tmp_path = os.path.join(path,file_name)    \n",
    "                s_list,time_ = OpenSubtitleSentence(tmp_path)\n",
    "                save_path = save_dir+os.path.basename(tmp_path).split('.')[0] + '.txt' \n",
    "                if len(s_list) & len(time_): \n",
    "                # if s_list and time_ not Null, then save the result\n",
    "                    SaveSentence(save_path,s_list,time_)\n",
    "                    i += 1\n",
    "                    if i%1000==0:print(i)\n",
    "except KeyboardInterrupt:\n",
    "    print(\"Stopped.\")\n",
    "    pass"
   ]
  },
  {
   "cell_type": "markdown",
   "metadata": {},
   "source": [
    "---"
   ]
  },
  {
   "cell_type": "code",
   "execution_count": 25,
   "metadata": {},
   "outputs": [
    {
     "name": "stdout",
     "output_type": "stream",
     "text": [
      "349313\n"
     ]
    }
   ],
   "source": [
    "file_count=0\n",
    "folderpath = \"/Volumes/Files/en/OpenSubtitles/txt/\"\n",
    "\n",
    "for dirpath, dirnames, filenames in os.walk(folderpath):\n",
    "    for file in filenames:\n",
    "        file_count=file_count+1\n",
    "print(file_count)\n"
   ]
  },
  {
   "cell_type": "markdown",
   "metadata": {},
   "source": [
    "---"
   ]
  }
 ],
 "metadata": {
  "kernelspec": {
   "display_name": "Python (semester)",
   "language": "python",
   "name": "semester"
  },
  "language_info": {
   "codemirror_mode": {
    "name": "ipython",
    "version": 3
   },
   "file_extension": ".py",
   "mimetype": "text/x-python",
   "name": "python",
   "nbconvert_exporter": "python",
   "pygments_lexer": "ipython3",
   "version": "3.6.8"
  }
 },
 "nbformat": 4,
 "nbformat_minor": 2
}
